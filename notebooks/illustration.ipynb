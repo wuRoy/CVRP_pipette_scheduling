{
 "cells": [
  {
   "cell_type": "code",
   "execution_count": 50,
   "metadata": {},
   "outputs": [
    {
     "data": {
      "image/png": "[encoded data removed]",
      "text/plain": [
       "<Figure size 400x100 with 1 Axes>"
      ]
     },
     "metadata": {},
     "output_type": "display_data"
    }
   ],
   "source": [
    "import matplotlib.pyplot as plt\n",
    "import numpy as np\n",
    "\n",
    "def draw_1d_heatmap(size,colormap='winter'):\n",
    "    array = np.random.rand(size)\n",
    "    # Create a figure and axis\n",
    "    fig, ax = plt.subplots(figsize=(size, 1))\n",
    "    \n",
    "    # Define a colormap\n",
    "    cmap = plt.get_cmap(colormap)\n",
    "    \n",
    "    # Normalize the array values to the range [0, 1]\n",
    "    norm = plt.Normalize(array.min(), array.max())\n",
    "    \n",
    "    # Create a heatmap\n",
    "    heatmap = ax.imshow(array[np.newaxis, :], aspect='auto', cmap=cmap, norm=norm)\n",
    "    \n",
    "    # Remove the frame\n",
    "    ax.spines['top'].set_visible(False)\n",
    "    ax.spines['right'].set_visible(False)\n",
    "    ax.spines['bottom'].set_visible(False)\n",
    "    ax.spines['left'].set_visible(False)\n",
    "    \n",
    "    # Remove the ticks\n",
    "    ax.set_xticks([])\n",
    "    ax.set_yticks([])\n",
    "    \n",
    "    # Show the plot\n",
    "    plt.show()\n",
    "\n",
    "# Example usage\n",
    "  # Generate a random array with 100 elements\n",
    "draw_1d_heatmap(4)"
   ]
  },
  {
   "cell_type": "code",
   "execution_count": null,
   "metadata": {},
   "outputs": [],
   "source": []
  }
 ],
 "metadata": {
  "kernelspec": {
   "display_name": "pipette_scheduling",
   "language": "python",
   "name": "python3"
  },
  "language_info": {
   "codemirror_mode": {
    "name": "ipython",
    "version": 3
   },
   "file_extension": ".py",
   "mimetype": "text/x-python",
   "name": "python",
   "nbconvert_exporter": "python",
   "pygments_lexer": "ipython3",
   "version": "3.9.21"
  }
 },
 "nbformat": 4,
 "nbformat_minor": 2
}
