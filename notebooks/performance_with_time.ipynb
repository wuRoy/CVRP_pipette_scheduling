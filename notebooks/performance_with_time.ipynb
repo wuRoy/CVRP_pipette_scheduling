{
 "cells": [
  {
   "cell_type": "code",
   "execution_count": null,
   "metadata": {},
   "outputs": [
    {
     "name": "stdout",
     "output_type": "stream",
     "text": [
      "/mnt/c/Users/runzh/OneDrive/Documents/2025/pipette_scheduling\n"
     ]
    },
    {
     "name": "stderr",
     "output_type": "stream",
     "text": [
      "/home/roger/miniforge3/envs/pipette_opt/lib/python3.9/site-packages/IPython/core/magics/osm.py:417: UserWarning: using dhist requires you to install the `pickleshare` library.\n",
      "  self.shell.db['dhist'] = compress_dhist(dhist)[-100:]\n",
      "/home/roger/miniforge3/envs/pipette_opt/lib/python3.9/site-packages/tqdm/auto.py:21: TqdmWarning: IProgress not found. Please update jupyter and ipywidgets. See https://ipywidgets.readthedocs.io/en/stable/user_install.html\n",
      "  from .autonotebook import tqdm as notebook_tqdm\n"
     ]
    }
   ],
   "source": [
    "%load_ext autoreload\n",
    "%autoreload 2\n",
    "%cd ..\n",
    "import numpy as np\n",
    "import matplotlib.pyplot as plt\n",
    "from src.ortools_solver import CVRP_solver\n",
    "from src.utils import random_choose_candidate_2,show_matrix, get_optimized_sequence\n",
    "from src.pipette_scheduler import calculate_D, calculate_S_E, calculate_D_prime,calculate_X\n",
    "from pipette_scheduling.src.baseline_methods import row_wise_optimization, greedy_scheduling\n",
    "import pandas as pd"
   ]
  },
  {
   "cell_type": "code",
   "execution_count": 3,
   "metadata": {},
   "outputs": [
    {
     "data": {
      "image/png": "[encoded data removed]",
      "text/plain": [
       "<Figure size 400x400 with 1 Axes>"
      ]
     },
     "metadata": {},
     "output_type": "display_data"
    }
   ],
   "source": [
    "np.random.seed(0)\n",
    "num_candidates = 700\n",
    "a = random_choose_candidate_2(96,96,num_candidates)\n",
    "jobs = np.argwhere(a)\n",
    "show_matrix(a)"
   ]
  },
  {
   "cell_type": "markdown",
   "metadata": {},
   "source": [
    "## Guangqi: Now you can use the following function for optimization"
   ]
  },
  {
   "cell_type": "code",
   "execution_count": 4,
   "metadata": {},
   "outputs": [
    {
     "data": {
      "text/plain": [
       "(3030.47,\n",
       " array([[691, 693, 290, 173, 188, 197, 201, 203],\n",
       "        [315, 329, 337, 598, 584, 593, 595, 583],\n",
       "        [420, 427, 398, 407, 538, 114,  17,  30],\n",
       "        [482, 484, 491, 498, 228,  98, 103, 107],\n",
       "        [435, 441, 450, 172, 314, 320, 425, 327],\n",
       "        [517, 481, 540, 546, 641, 647, 656, 662],\n",
       "        [ 94,  96, 149, 158, 166,  56,  62,  73],\n",
       "        [332, 339,  60,  71,  79, 183, 308, 312],\n",
       "        [513, 524, 689, 698, 631, 670, 678, 681],\n",
       "        [637, 651, 658, 671, 676, 680, 447, 458],\n",
       "        [605, 616, 621, 630, 275,  41,  45, 463],\n",
       "        [596,  31,  39,  47,  42, 344, 349, 355],\n",
       "        [ 19, 250, 262, 267, 280, 297, 301, 494],\n",
       "        [471, 478, 161, 170, 423, 430, 433, 438],\n",
       "        [405, 412, 655, 663, 674, 682, 692, 700],\n",
       "        [116, 542, 431, 100, 104, 106, 137, 142],\n",
       "        [472, 483, 672,  78, 578,  59, 196, 202],\n",
       "        [324, 258, 277, 286, 294, 456, 369, 373],\n",
       "        [643, 654, 165, 169, 511, 619, 626, 318],\n",
       "        [156, 164, 168,  57,  64, 144, 157, 159],\n",
       "        [238, 243, 253, 259, 272, 341, 351, 359],\n",
       "        [214, 226, 235, 496, 499, 502, 504, 508],\n",
       "        [570, 587, 261, 279, 289, 148, 153, 625],\n",
       "        [307, 378, 390, 251, 266, 269, 283, 298],\n",
       "        [  7,  11,  15,  27,  33, 632, 410, 414],\n",
       "        [510, 581, 589, 599, 138, 146, 155, 642],\n",
       "        [ 76,  95,  43, 126, 634, 184, 191, 192],\n",
       "        [304, 310, 322, 437, 443, 448, 112, 567],\n",
       "        [  3, 180, 187, 195, 119, 124, 127, 268],\n",
       "        [136, 141, 150, 406, 418, 503, 506, 610],\n",
       "        [354, 360, 453, 465, 469, 321, 328, 179],\n",
       "        [613, 690, 699, 264, 276, 288, 296, 303],\n",
       "        [273, 287,  46, 520, 574, 585, 208, 221],\n",
       "        [566, 523, 313, 338, 343,  29, 365, 370],\n",
       "        [694, 204, 213, 222, 230, 650, 657, 669],\n",
       "        [536, 544, 548, 555, 565, 305, 309, 317],\n",
       "        [  5,   9,   1, 514, 526,  66,  72,  75],\n",
       "        [254, 263, 270, 281, 331, 342, 346, 362],\n",
       "        [612,  84, 111, 256, 379, 382, 391, 400],\n",
       "        [ 25, 385, 417, 639, 653, 220, 224, 229],\n",
       "        [493, 473, 479, 123, 130, 139, 145, 152],\n",
       "        [ 81,  92, 687, 580, 591, 601,  10, 218],\n",
       "        [215, 239, 246, 326, 333, 340, 350, 361],\n",
       "        [620, 633,  88,  93, 118, 122, 128, 623],\n",
       "        [ 63,  68,  74, 470, 175, 189, 334, 345],\n",
       "        [240, 248, 255, 602, 607, 611, 618, 603],\n",
       "        [550, 559, 561,  67,  87, 147, 265, 278],\n",
       "        [560, 568,  55, 488, 582, 592, 597, 516],\n",
       "        [579, 462, 501, 505, 649, 237, 247,  51],\n",
       "        [  4, 552, 627,  40,  49,  54, 209, 219],\n",
       "        [392, 404, 409, 389, 393, 399, 108, 665],\n",
       "        [553, 557, 347, 232, 216, 564,  16,  22],\n",
       "        [512, 381, 356, 101,  12,  28,  34,  35],\n",
       "        [117, 120, 129, 140, 388,  26, 225, 227],\n",
       "        [160, 569, 476, 486, 495, 497, 604, 615],\n",
       "        [143,  24, 600, 608, 614, 617, 622, 198],\n",
       "        [245, 515, 475, 485, 489,   8, 357, 358],\n",
       "        [577, 588, 444, 459, 467, 543, 102, 480],\n",
       "        [300, 316, 325, 336, 532, 274, 679, 125],\n",
       "        [383, 395, 368, 396, 402,  52, 455, 696],\n",
       "        [374, 507,  80,  70,  82, 291, 302, 477],\n",
       "        [190, 193, 319, 323, 452, 464,  37, 688],\n",
       "        [572, 628, 206, 211, 646, 474, 487, 451],\n",
       "        [518, 109, 629, 575, 181, 185, 366, 664],\n",
       "        [176, 636, 177, 178, 186, 194, 199, 207],\n",
       "        [115, 121, 131, 163, 167, 241, 249, 257],\n",
       "        [531, 541,  89,  91,  97, 434, 439, 415],\n",
       "        [521, 661, 667, 311,   2, 217,  83, 424],\n",
       "        [440, 446, 571, 586, 590, 594, 606, 609],\n",
       "        [ 13, 624,  21,  32, 110, 284, 295, 299],\n",
       "        [306, 445, 457, 466, 468,  14,  23, 285],\n",
       "        [292, 205, 210, 223, 234, 174, 397,  61],\n",
       "        [403, 408, 416, 551, 554, 563, 500, 492],\n",
       "        [547, 556, 666, 677, 683, 576, 242,  18],\n",
       "        [421, 428, 151,  20, 352,  48,  53, 353],\n",
       "        [638, 645, 660, 673, 509, 154, 162, 171],\n",
       "        [212, 413, 530, 244, 252, 380, 527, 533],\n",
       "        [364, 371, 522,  86, 372, 375, 348, 363],\n",
       "        [330, 335, 386, 573, 558, 562, 675, 135],\n",
       "        [ 58,  65,  69,  77, 686, 697, 640, 652],\n",
       "        [260, 271, 282, 293, 432,   6, 460, 182],\n",
       "        [519, 525, 376, 384, 394, 401, 411, 449],\n",
       "        [233, 537,  38, 132, 133, 134, 684, 685],\n",
       "        [635, 648, 659, 668, 695, 200, 377, 387],\n",
       "        [534, 422, 429,  85,  90,  99, 231,  -1],\n",
       "        [419, 426, 436, 442, 644, 105, 113,  -1],\n",
       "        [528, 535, 236,  36,  44,  50, 490,  -1],\n",
       "        [529, 539, 545, 549, 367, 454, 461,  -1]]))"
      ]
     },
     "execution_count": 4,
     "metadata": {},
     "output_type": "execute_result"
    }
   ],
   "source": [
    "from src.pipette_scheduler import CVRP_pipette_scheduling\n",
    "CVRP_pipette_scheduling(a, 2, 30, 1, 20)"
   ]
  },
  {
   "cell_type": "markdown",
   "metadata": {},
   "source": [
    "## If you need to debug:"
   ]
  },
  {
   "cell_type": "code",
   "execution_count": 7,
   "metadata": {},
   "outputs": [
    {
     "name": "stdout",
     "output_type": "stream",
     "text": [
      "VRP distance:  1237.28\n"
     ]
    }
   ],
   "source": [
    "task_matrix = a\n",
    "nwells_source, nwells_destination = task_matrix.shape\n",
    "\n",
    "D_S = calculate_D(nwells_source)\n",
    "D_D = calculate_D(nwells_destination)\n",
    "\n",
    "S, E, volumes = calculate_S_E(task_matrix)\n",
    "D_prime = calculate_D_prime(D_S, D_D, S, E, volumes, 1, 100, 1, 100)\n",
    "\n",
    "optimized_distance, recorder = CVRP_solver(np.round(D_prime* 100).astype(np.int64), solving_time=20)\n",
    "\n",
    "print(\"VRP distance: \", optimized_distance / 100)"
   ]
  },
  {
   "cell_type": "code",
   "execution_count": null,
   "metadata": {},
   "outputs": [
    {
     "name": "stdout",
     "output_type": "stream",
     "text": [
      "VRP distance:  1237.28\n"
     ]
    }
   ],
   "source": [
    "vrp_sequence = get_optimized_sequence(recorder)\n",
    "t = calculate_X(vrp_sequence)\n",
    "VRP_distance = np.trace(np.dot(t.T, np.round(D_prime * 100))) / 100\n",
    "print(\"VRP distance: \", VRP_distance)"
   ]
  },
  {
   "cell_type": "code",
   "execution_count": 25,
   "metadata": {},
   "outputs": [
    {
     "name": "stdout",
     "output_type": "stream",
     "text": [
      "non_optimized_distance: 1958\n"
     ]
    }
   ],
   "source": [
    "# calculate the cost of the non-optimized sequence\n",
    "tasks = np.array(range(jobs.shape[0]))\n",
    "tasks = tasks+1\n",
    "# if tasks.shape[0] %8 != 0, pad with -1\n",
    "if tasks.shape[0] %8 != 0:\n",
    "    tasks = np.pad(tasks, (0, 8-tasks.shape[0]%8), 'constant', constant_values=-1)\n",
    "unoptimized_seuqnece = tasks.reshape(-1, 8)\n",
    "t = calculate_T_test(unoptimized_seuqnece)\n",
    "d = D_prime\n",
    "non_optimized_distance = np.trace(np.dot(t.T, d))\n",
    "# change non_optimized_distance to integer\n",
    "non_optimized_distance = int(non_optimized_distance)\n",
    "print(f'non_optimized_distance: {non_optimized_distance}')"
   ]
  },
  {
   "cell_type": "code",
   "execution_count": 26,
   "metadata": {},
   "outputs": [
    {
     "data": {
      "text/plain": [
       "array([[  1,   2,   3,   4,   5,   6,   7,   8],\n",
       "       [  9,  10,  11,  12,  13,  14,  15,  16],\n",
       "       [ 17,  18,  19,  20,  21,  22,  23,  24],\n",
       "       [ 25,  26,  27,  28,  29,  30,  31,  32],\n",
       "       [ 33,  34,  35,  36,  37,  38,  39,  40],\n",
       "       [ 41,  42,  43,  44,  45,  46,  47,  48],\n",
       "       [ 49,  50,  51,  52,  53,  54,  55,  56],\n",
       "       [ 57,  58,  59,  60,  61,  62,  63,  64],\n",
       "       [ 65,  66,  67,  68,  69,  70,  71,  72],\n",
       "       [ 73,  74,  75,  76,  77,  78,  79,  80],\n",
       "       [ 81,  82,  83,  84,  85,  86,  87,  88],\n",
       "       [ 89,  90,  91,  92,  93,  94,  95,  96],\n",
       "       [ 97,  98,  99, 100, 101, 102, 103, 104],\n",
       "       [105, 106, 107, 108, 109, 110, 111, 112],\n",
       "       [113, 114, 115, 116, 117, 118, 119, 120],\n",
       "       [121, 122, 123, 124, 125, 126, 127, 128],\n",
       "       [129, 130, 131, 132, 133, 134, 135, 136],\n",
       "       [137, 138, 139, 140, 141, 142, 143, 144],\n",
       "       [145, 146, 147, 148, 149, 150, 151, 152],\n",
       "       [153, 154, 155, 156, 157, 158, 159, 160],\n",
       "       [161, 162, 163, 164, 165, 166, 167, 168],\n",
       "       [169, 170, 171, 172, 173, 174, 175, 176],\n",
       "       [177, 178, 179, 180, 181, 182, 183, 184],\n",
       "       [185, 186, 187, 188, 189, 190, 191, 192],\n",
       "       [193, 194, 195, 196, 197, 198, 199, 200],\n",
       "       [201, 202, 203, 204, 205, 206, 207, 208],\n",
       "       [209, 210, 211, 212, 213, 214, 215, 216],\n",
       "       [217, 218, 219, 220, 221, 222, 223, 224],\n",
       "       [225, 226, 227, 228, 229, 230, 231, 232],\n",
       "       [233, 234, 235, 236, 237, 238, 239, 240],\n",
       "       [241, 242, 243, 244, 245, 246, 247, 248],\n",
       "       [249, 250, 251, 252, 253, 254, 255, 256],\n",
       "       [257, 258, 259, 260, 261, 262, 263, 264],\n",
       "       [265, 266, 267, 268, 269, 270, 271, 272],\n",
       "       [273, 274, 275, 276, 277, 278, 279, 280],\n",
       "       [281, 282, 283, 284, 285, 286, 287, 288],\n",
       "       [289, 290, 291, 292, 293, 294, 295, 296],\n",
       "       [297, 298, 299, 300, 301, 302, 303, 304],\n",
       "       [305, 306, 307, 308, 309, 310, 311, 312],\n",
       "       [313, 314, 315, 316, 317, 318, 319, 320],\n",
       "       [321, 322, 323, 324, 325, 326, 327, 328],\n",
       "       [329, 330, 331, 332, 333, 334, 335, 336],\n",
       "       [337, 338, 339, 340, 341, 342, 343, 344],\n",
       "       [345, 346, 347, 348, 349, 350, 351, 352],\n",
       "       [353, 354, 355, 356, 357, 358, 359, 360],\n",
       "       [361, 362, 363, 364, 365, 366, 367, 368],\n",
       "       [369, 370, 371, 372, 373, 374, 375, 376],\n",
       "       [377, 378, 379, 380, 381, 382, 383, 384],\n",
       "       [385, 386, 387, 388, 389, 390, 391, 392],\n",
       "       [393, 394, 395, 396, 397, 398, 399, 400],\n",
       "       [401, 402, 403, 404, 405, 406, 407, 408],\n",
       "       [409, 410, 411, 412, 413, 414, 415, 416],\n",
       "       [417, 418, 419, 420, 421, 422, 423, 424],\n",
       "       [425, 426, 427, 428, 429, 430, 431, 432],\n",
       "       [433, 434, 435, 436, 437, 438, 439, 440],\n",
       "       [441, 442, 443, 444, 445, 446, 447, 448],\n",
       "       [449, 450, 451, 452, 453, 454, 455, 456],\n",
       "       [457, 458, 459, 460, 461, 462, 463, 464],\n",
       "       [465, 466, 467, 468, 469, 470, 471, 472],\n",
       "       [473, 474, 475, 476, 477, 478, 479, 480],\n",
       "       [481, 482, 483, 484, 485, 486, 487, 488],\n",
       "       [489, 490, 491, 492, 493, 494, 495, 496],\n",
       "       [497, 498, 499, 500, 501, 502, 503, 504],\n",
       "       [505, 506, 507, 508, 509, 510, 511, 512],\n",
       "       [513, 514, 515, 516, 517, 518, 519, 520],\n",
       "       [521, 522, 523, 524, 525, 526, 527, 528],\n",
       "       [529, 530, 531, 532, 533, 534, 535, 536],\n",
       "       [537, 538, 539, 540, 541, 542, 543, 544],\n",
       "       [545, 546, 547, 548, 549, 550, 551, 552],\n",
       "       [553, 554, 555, 556, 557, 558, 559, 560],\n",
       "       [561, 562, 563, 564, 565, 566, 567, 568],\n",
       "       [569, 570, 571, 572, 573, 574, 575, 576],\n",
       "       [577, 578, 579, 580, 581, 582, 583, 584],\n",
       "       [585, 586, 587, 588, 589, 590, 591, 592],\n",
       "       [593, 594, 595, 596, 597, 598, 599, 600],\n",
       "       [601, 602, 603, 604, 605, 606, 607, 608],\n",
       "       [609, 610, 611, 612, 613, 614, 615, 616],\n",
       "       [617, 618, 619, 620, 621, 622, 623, 624],\n",
       "       [625, 626, 627, 628, 629, 630, 631, 632],\n",
       "       [633, 634, 635, 636, 637, 638, 639, 640],\n",
       "       [641, 642, 643, 644, 645, 646, 647, 648],\n",
       "       [649, 650, 651, 652, 653, 654, 655, 656],\n",
       "       [657, 658, 659, 660, 661, 662, 663, 664],\n",
       "       [665, 666, 667, 668, 669, 670, 671, 672],\n",
       "       [673, 674, 675, 676, 677, 678, 679, 680],\n",
       "       [681, 682, 683, 684, 685, 686, 687, 688],\n",
       "       [689, 690, 691, 692, 693, 694, 695, 696],\n",
       "       [697, 698, 699, 700,  -1,  -1,  -1,  -1]])"
      ]
     },
     "execution_count": 26,
     "metadata": {},
     "output_type": "execute_result"
    }
   ],
   "source": [
    "unoptimized_seuqnece"
   ]
  },
  {
   "cell_type": "code",
   "execution_count": null,
   "metadata": {},
   "outputs": [
    {
     "name": "stdout",
     "output_type": "stream",
     "text": [
      "row_wise_optimized_distance: 1475\n"
     ]
    }
   ],
   "source": [
    "# calculate the cost of the row-wise optimized sequence\n",
    "index_matrix = np.zeros((96,96))\n",
    "for j in range(jobs.shape[0]):\n",
    "    index_matrix[jobs[j, 0], jobs[j, 1]] = j+1\n",
    "row_wise_optimized_sequence = row_wise_optimization(index_matrix)\n",
    "if row_wise_optimized_sequence.shape[0] %8 != 0:\n",
    "    row_wise_optimized_sequence = np.pad(row_wise_optimized_sequence, (0, 8-row_wise_optimized_sequence.shape[0]%8), 'constant', constant_values=-1)\n",
    "row_wise_optimized_sequence = row_wise_optimized_sequence.reshape(-1, 8)\n",
    "t = calculate_X(row_wise_optimized_sequence)\n",
    "row_wise_optimized_distance = np.trace(np.dot(t.T, d))\n",
    "# change non_optimized_distance to integer\n",
    "row_wise_optimized_distance = int(row_wise_optimized_distance)\n",
    "print(f'row_wise_optimized_distance: {row_wise_optimized_distance}')"
   ]
  },
  {
   "cell_type": "code",
   "execution_count": null,
   "metadata": {},
   "outputs": [],
   "source": []
  }
 ],
 "metadata": {
  "kernelspec": {
   "display_name": "pipette_opt",
   "language": "python",
   "name": "pipette_opt"
  },
  "language_info": {
   "codemirror_mode": {
    "name": "ipython",
    "version": 3
   },
   "file_extension": ".py",
   "mimetype": "text/x-python",
   "name": "python",
   "nbconvert_exporter": "python",
   "pygments_lexer": "ipython3",
   "version": "3.9.21"
  }
 },
 "nbformat": 4,
 "nbformat_minor": 4
}
