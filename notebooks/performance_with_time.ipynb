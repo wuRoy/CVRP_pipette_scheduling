{
 "cells": [
  {
   "cell_type": "code",
   "execution_count": 1,
   "metadata": {},
   "outputs": [
    {
     "name": "stdout",
     "output_type": "stream",
     "text": [
      "/mnt/c/Users/runzh/OneDrive/Documents/2025/pipette_scheduling\n"
     ]
    },
    {
     "name": "stderr",
     "output_type": "stream",
     "text": [
      "/home/roger/miniforge3/envs/pipette_opt/lib/python3.9/site-packages/IPython/core/magics/osm.py:417: UserWarning: using dhist requires you to install the `pickleshare` library.\n",
      "  self.shell.db['dhist'] = compress_dhist(dhist)[-100:]\n",
      "/home/roger/miniforge3/envs/pipette_opt/lib/python3.9/site-packages/tqdm/auto.py:21: TqdmWarning: IProgress not found. Please update jupyter and ipywidgets. See https://ipywidgets.readthedocs.io/en/stable/user_install.html\n",
      "  from .autonotebook import tqdm as notebook_tqdm\n"
     ]
    }
   ],
   "source": [
    "%load_ext autoreload\n",
    "%autoreload 2\n",
    "%cd ..\n",
    "import numpy as np\n",
    "import matplotlib.pyplot as plt\n",
    "from src.ortools_solver import CVRP_solver\n",
    "from src.utils import random_choose_candidate_2,show_matrix, get_optimized_sequence\n",
    "from src.pipette_scheduler import calculate_D, calculate_S_E, calculate_D_prime,calculate_T\n",
    "from src.optimization_methods import row_wise_optimization, greedy_scheduling\n",
    "import pandas as pd"
   ]
  },
  {
   "cell_type": "code",
   "execution_count": 2,
   "metadata": {},
   "outputs": [
    {
     "data": {
      "image/png": "[encoded data removed]",
      "text/plain": [
       "<Figure size 400x400 with 1 Axes>"
      ]
     },
     "metadata": {},
     "output_type": "display_data"
    }
   ],
   "source": [
    "np.random.seed(0)\n",
    "num_candidates = 16\n",
    "a = random_choose_candidate_2(12,12,num_candidates)\n",
    "a[a>0] = 1\n",
    "jobs = np.argwhere(a)\n",
    "show_matrix(a)"
   ]
  },
  {
   "cell_type": "code",
   "execution_count": 3,
   "metadata": {},
   "outputs": [],
   "source": [
    "a = np.zeros((12,12))\n",
    "a[0,1] = 1\n",
    "a[0,6] = 1\n",
    "a[1,2] = 1\n",
    "a[1,7] = 1\n",
    "a[1,8] = 1\n",
    "a[2,2] = 1\n",
    "a[3,1] = 1\n",
    "a[3,10] = 1\n",
    "a[4,0] = 1\n",
    "a[5,2] = 1\n",
    "a[5,9] = 1\n",
    "a[8,5] = 1\n",
    "a[9,0] = 1\n",
    "a[9,5] = 1\n",
    "a[10,1] = 1\n",
    "a[11,2] = 1\n",
    "jobs = np.argwhere(a)"
   ]
  },
  {
   "cell_type": "code",
   "execution_count": 4,
   "metadata": {},
   "outputs": [
    {
     "name": "stdout",
     "output_type": "stream",
     "text": [
      "1\n",
      "[0 1]\n",
      "2\n",
      "[0 6]\n",
      "3\n",
      "[1 2]\n",
      "4\n",
      "[1 7]\n",
      "5\n",
      "[1 8]\n",
      "6\n",
      "[2 2]\n",
      "7\n",
      "[3 1]\n",
      "8\n",
      "[ 3 10]\n",
      "9\n",
      "[4 0]\n",
      "10\n",
      "[5 2]\n",
      "11\n",
      "[5 9]\n",
      "12\n",
      "[8 5]\n",
      "13\n",
      "[9 0]\n",
      "14\n",
      "[9 5]\n",
      "15\n",
      "[10  1]\n",
      "16\n",
      "[11  2]\n"
     ]
    }
   ],
   "source": [
    "for i in range(len(jobs)):\n",
    "    print(i+1)\n",
    "    print(jobs[i])"
   ]
  },
  {
   "cell_type": "markdown",
   "metadata": {},
   "source": [
    "## Guangqi: Now you can use the following function for optimization"
   ]
  },
  {
   "cell_type": "code",
   "execution_count": 5,
   "metadata": {},
   "outputs": [
    {
     "data": {
      "text/plain": [
       "(28.7,\n",
       " array([[ 1.,  3., 12.,  2.,  4.,  5.,  6., 14.],\n",
       "        [13., 15., 16., 11.,  8.,  9.,  7., 10.],\n",
       "        [-1., -1., -1., -1., -1., -1., -1., -1.]]))"
      ]
     },
     "execution_count": 5,
     "metadata": {},
     "output_type": "execute_result"
    }
   ],
   "source": [
    "from src.pipette_scheduler import CVRP_pipette_scheduling\n",
    "CVRP_pipette_scheduling(a, 2, 30, 1, 20)"
   ]
  },
  {
   "cell_type": "code",
   "execution_count": null,
   "metadata": {},
   "outputs": [],
   "source": []
  },
  {
   "cell_type": "markdown",
   "metadata": {},
   "source": [
    "## If you need to debug:"
   ]
  },
  {
   "cell_type": "code",
   "execution_count": 6,
   "metadata": {},
   "outputs": [
    {
     "name": "stdout",
     "output_type": "stream",
     "text": [
      "VRP distance:  28.7\n"
     ]
    }
   ],
   "source": [
    "task_matrix = a\n",
    "nwells_source, nwells_destination = task_matrix.shape\n",
    "\n",
    "D_S = calculate_D(nwells_source)\n",
    "D_D = calculate_D(nwells_destination)\n",
    "\n",
    "S, E, volumes = calculate_S_E(task_matrix)\n",
    "D_prime = calculate_D_prime(D_S, D_D, S, E, volumes, 2, 30, 1, 20)\n",
    "\n",
    "optimized_distance, recorder = CVRP_solver((D_prime* 100).astype(np.int64), solving_time=10)\n",
    "\n",
    "print(\"VRP distance: \", optimized_distance / 100)"
   ]
  },
  {
   "cell_type": "code",
   "execution_count": null,
   "metadata": {},
   "outputs": [],
   "source": []
  },
  {
   "cell_type": "code",
   "execution_count": 17,
   "metadata": {},
   "outputs": [
    {
     "name": "stdout",
     "output_type": "stream",
     "text": [
      "VRP distance:  12\n"
     ]
    }
   ],
   "source": [
    "# CVRP distance matrix\n",
    "D_S = calculate_D(a.shape[0])\n",
    "D_D = calculate_D(a.shape[1])\n",
    "S, E = calculate_S_E(a)   \n",
    "# calculate distance matrix\n",
    "D_prime = calculate_D_prime(D_S,D_D, S, E)\n",
    "D_prime = add_depot(D_prime)\n",
    "VRP_distance, VRP_recorder = CVRP_solver(D_prime.astype(np.int64), solving_time =20)\n",
    "print(\"VRP distance: \", VRP_distance)"
   ]
  },
  {
   "cell_type": "code",
   "execution_count": 18,
   "metadata": {},
   "outputs": [
    {
     "data": {
      "text/plain": [
       "array([[11,  8,  9,  7, 10,  2,  4,  5],\n",
       "       [14, 12,  1,  3,  6, -1, -1, -1],\n",
       "       [13, 15, 16, -1, -1, -1, -1, -1]])"
      ]
     },
     "execution_count": 18,
     "metadata": {},
     "output_type": "execute_result"
    }
   ],
   "source": [
    "get_optimized_sequence(VRP_recorder)"
   ]
  },
  {
   "cell_type": "code",
   "execution_count": 19,
   "metadata": {},
   "outputs": [
    {
     "name": "stdout",
     "output_type": "stream",
     "text": [
      "non_optimized_distance: 21\n"
     ]
    }
   ],
   "source": [
    "# calculate the cost of the non-optimized sequence\n",
    "tasks = np.array(range(jobs.shape[0]))\n",
    "tasks = tasks+1\n",
    "# if tasks.shape[0] %8 != 0, pad with -1\n",
    "if tasks.shape[0] %8 != 0:\n",
    "    tasks = np.pad(tasks, (0, 8-tasks.shape[0]%8), 'constant', constant_values=-1)\n",
    "unoptimized_seuqnece = tasks.reshape(-1, 8)\n",
    "t = calculate_T(unoptimized_seuqnece)\n",
    "d = D_prime[1:, 1:]\n",
    "non_optimized_distance = np.trace(np.dot(t.T, d))\n",
    "# change non_optimized_distance to integer\n",
    "non_optimized_distance = int(non_optimized_distance)\n",
    "print(f'non_optimized_distance: {non_optimized_distance}')"
   ]
  },
  {
   "cell_type": "code",
   "execution_count": 20,
   "metadata": {},
   "outputs": [
    {
     "data": {
      "text/plain": [
       "array([[ 1,  2,  3,  4,  5,  6,  7,  8],\n",
       "       [ 9, 10, 11, 12, 13, 14, 15, 16]])"
      ]
     },
     "execution_count": 20,
     "metadata": {},
     "output_type": "execute_result"
    }
   ],
   "source": [
    "unoptimized_seuqnece"
   ]
  },
  {
   "cell_type": "code",
   "execution_count": 8,
   "metadata": {},
   "outputs": [
    {
     "name": "stdout",
     "output_type": "stream",
     "text": [
      "row_wise_optimized_distance: 20\n"
     ]
    }
   ],
   "source": [
    "# calculate the cost of the row-wise optimized sequence\n",
    "index_matrix = np.zeros((96,96))\n",
    "for j in range(jobs.shape[0]):\n",
    "    index_matrix[jobs[j, 0], jobs[j, 1]] = j+1\n",
    "row_wise_optimized_sequence = row_wise_optimization(index_matrix)\n",
    "if row_wise_optimized_sequence.shape[0] %8 != 0:\n",
    "    row_wise_optimized_sequence = np.pad(row_wise_optimized_sequence, (0, 8-row_wise_optimized_sequence.shape[0]%8), 'constant', constant_values=-1)\n",
    "row_wise_optimized_sequence = row_wise_optimized_sequence.reshape(-1, 8)\n",
    "t = calculate_T(row_wise_optimized_sequence)\n",
    "row_wise_optimized_distance = np.trace(np.dot(t.T, d))\n",
    "# change non_optimized_distance to integer\n",
    "row_wise_optimized_distance = int(row_wise_optimized_distance)\n",
    "print(f'row_wise_optimized_distance: {row_wise_optimized_distance}')"
   ]
  },
  {
   "cell_type": "code",
   "execution_count": null,
   "metadata": {},
   "outputs": [],
   "source": []
  }
 ],
 "metadata": {
  "kernelspec": {
   "display_name": "pipette_opt",
   "language": "python",
   "name": "pipette_opt"
  },
  "language_info": {
   "codemirror_mode": {
    "name": "ipython",
    "version": 3
   },
   "file_extension": ".py",
   "mimetype": "text/x-python",
   "name": "python",
   "nbconvert_exporter": "python",
   "pygments_lexer": "ipython3",
   "version": "3.9.21"
  }
 },
 "nbformat": 4,
 "nbformat_minor": 4
}
