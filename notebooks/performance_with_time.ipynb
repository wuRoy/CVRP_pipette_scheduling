{
 "cells": [
  {
   "cell_type": "code",
   "execution_count": 11,
   "metadata": {},
   "outputs": [
    {
     "name": "stdout",
     "output_type": "stream",
     "text": [
      "The autoreload extension is already loaded. To reload it, use:\n",
      "  %reload_ext autoreload\n",
      "/home/yq-mew/yq/chem1906\n"
     ]
    }
   ],
   "source": [
    "%load_ext autoreload\n",
    "%autoreload 2\n",
    "%cd ..\n",
    "import numpy as np\n",
    "import matplotlib.pyplot as plt\n",
    "from src.ortools_solver import CVRP_solver\n",
    "from src.utils import random_choose_candidate_2,show_matrix, get_optimized_sequence\n",
    "from Projects.pipette_scheduling.src.cost_function import calculate_D, calculate_S_E, calculate_D_prime,add_depot,calculate_T\n",
    "from src.optimization_methods import row_wise_optimization, greedy_scheduling\n",
    "import pandas as pd"
   ]
  },
  {
   "cell_type": "code",
   "execution_count": 5,
   "metadata": {},
   "outputs": [
    {
     "data": {
      "image/png": "[encoded data removed]",
      "text/plain": [
       "<Figure size 400x400 with 1 Axes>"
      ]
     },
     "metadata": {},
     "output_type": "display_data"
    }
   ],
   "source": [
    "np.random.seed(0)\n",
    "num_candidates = 16\n",
    "a = random_choose_candidate_2(12,12,num_candidates)\n",
    "a[a>0] = 1\n",
    "jobs = np.argwhere(a)\n",
    "show_matrix(a)"
   ]
  },
  {
   "cell_type": "code",
   "execution_count": 16,
   "metadata": {},
   "outputs": [],
   "source": [
    "a = np.zeros((12,12))\n",
    "a[0,1] = 1\n",
    "a[0,6] = 1\n",
    "a[1,2] = 1\n",
    "a[1,7] = 1\n",
    "a[1,8] = 1\n",
    "a[2,2] = 1\n",
    "a[3,1] = 1\n",
    "a[3,10] = 1\n",
    "a[4,0] = 1\n",
    "a[5,2] = 1\n",
    "a[5,9] = 1\n",
    "a[8,5] = 1\n",
    "a[9,0] = 1\n",
    "a[9,5] = 1\n",
    "a[10,1] = 1\n",
    "a[11,2] = 1\n",
    "jobs = np.argwhere(a)"
   ]
  },
  {
   "cell_type": "code",
   "execution_count": 23,
   "metadata": {},
   "outputs": [
    {
     "name": "stdout",
     "output_type": "stream",
     "text": [
      "1\n",
      "[0 1]\n",
      "2\n",
      "[0 6]\n",
      "3\n",
      "[1 2]\n",
      "4\n",
      "[1 7]\n",
      "5\n",
      "[1 8]\n",
      "6\n",
      "[2 2]\n",
      "7\n",
      "[3 1]\n",
      "8\n",
      "[ 3 10]\n",
      "9\n",
      "[4 0]\n",
      "10\n",
      "[5 2]\n",
      "11\n",
      "[5 9]\n",
      "12\n",
      "[8 5]\n",
      "13\n",
      "[9 0]\n",
      "14\n",
      "[9 5]\n",
      "15\n",
      "[10  1]\n",
      "16\n",
      "[11  2]\n"
     ]
    }
   ],
   "source": [
    "for i in range(len(jobs)):\n",
    "    print(i+1)\n",
    "    print(jobs[i])"
   ]
  },
  {
   "cell_type": "code",
   "execution_count": 17,
   "metadata": {},
   "outputs": [
    {
     "name": "stdout",
     "output_type": "stream",
     "text": [
      "VRP distance:  12\n"
     ]
    }
   ],
   "source": [
    "# CVRP distance matrix\n",
    "D_S = calculate_D(a.shape[0])\n",
    "D_D = calculate_D(a.shape[1])\n",
    "S, E = calculate_S_E(a)   \n",
    "# calculate distance matrix\n",
    "D_prime = calculate_D_prime(D_S,D_D, S, E)\n",
    "D_prime = add_depot(D_prime)\n",
    "VRP_distance, VRP_recorder = CVRP_solver(D_prime.astype(np.int64), solving_time =20)\n",
    "print(\"VRP distance: \", VRP_distance)"
   ]
  },
  {
   "cell_type": "code",
   "execution_count": 18,
   "metadata": {},
   "outputs": [
    {
     "data": {
      "text/plain": [
       "array([[11,  8,  9,  7, 10,  2,  4,  5],\n",
       "       [14, 12,  1,  3,  6, -1, -1, -1],\n",
       "       [13, 15, 16, -1, -1, -1, -1, -1]])"
      ]
     },
     "execution_count": 18,
     "metadata": {},
     "output_type": "execute_result"
    }
   ],
   "source": [
    "get_optimized_sequence(VRP_recorder)"
   ]
  },
  {
   "cell_type": "code",
   "execution_count": 19,
   "metadata": {},
   "outputs": [
    {
     "name": "stdout",
     "output_type": "stream",
     "text": [
      "non_optimized_distance: 21\n"
     ]
    }
   ],
   "source": [
    "# calculate the cost of the non-optimized sequence\n",
    "tasks = np.array(range(jobs.shape[0]))\n",
    "tasks = tasks+1\n",
    "# if tasks.shape[0] %8 != 0, pad with -1\n",
    "if tasks.shape[0] %8 != 0:\n",
    "    tasks = np.pad(tasks, (0, 8-tasks.shape[0]%8), 'constant', constant_values=-1)\n",
    "unoptimized_seuqnece = tasks.reshape(-1, 8)\n",
    "t = calculate_T(unoptimized_seuqnece)\n",
    "d = D_prime[1:, 1:]\n",
    "non_optimized_distance = np.trace(np.dot(t.T, d))\n",
    "# change non_optimized_distance to integer\n",
    "non_optimized_distance = int(non_optimized_distance)\n",
    "print(f'non_optimized_distance: {non_optimized_distance}')"
   ]
  },
  {
   "cell_type": "code",
   "execution_count": 20,
   "metadata": {},
   "outputs": [
    {
     "data": {
      "text/plain": [
       "array([[ 1,  2,  3,  4,  5,  6,  7,  8],\n",
       "       [ 9, 10, 11, 12, 13, 14, 15, 16]])"
      ]
     },
     "execution_count": 20,
     "metadata": {},
     "output_type": "execute_result"
    }
   ],
   "source": [
    "unoptimized_seuqnece"
   ]
  },
  {
   "cell_type": "code",
   "execution_count": 8,
   "metadata": {},
   "outputs": [
    {
     "name": "stdout",
     "output_type": "stream",
     "text": [
      "row_wise_optimized_distance: 20\n"
     ]
    }
   ],
   "source": [
    "# calculate the cost of the row-wise optimized sequence\n",
    "index_matrix = np.zeros((96,96))\n",
    "for j in range(jobs.shape[0]):\n",
    "    index_matrix[jobs[j, 0], jobs[j, 1]] = j+1\n",
    "row_wise_optimized_sequence = row_wise_optimization(index_matrix)\n",
    "if row_wise_optimized_sequence.shape[0] %8 != 0:\n",
    "    row_wise_optimized_sequence = np.pad(row_wise_optimized_sequence, (0, 8-row_wise_optimized_sequence.shape[0]%8), 'constant', constant_values=-1)\n",
    "row_wise_optimized_sequence = row_wise_optimized_sequence.reshape(-1, 8)\n",
    "t = calculate_T(row_wise_optimized_sequence)\n",
    "row_wise_optimized_distance = np.trace(np.dot(t.T, d))\n",
    "# change non_optimized_distance to integer\n",
    "row_wise_optimized_distance = int(row_wise_optimized_distance)\n",
    "print(f'row_wise_optimized_distance: {row_wise_optimized_distance}')"
   ]
  },
  {
   "cell_type": "code",
   "execution_count": null,
   "metadata": {},
   "outputs": [],
   "source": []
  }
 ],
 "metadata": {
  "kernelspec": {
   "display_name": "pipette_scheduling",
   "language": "python",
   "name": "python3"
  },
  "language_info": {
   "codemirror_mode": {
    "name": "ipython",
    "version": 3
   },
   "file_extension": ".py",
   "mimetype": "text/x-python",
   "name": "python",
   "nbconvert_exporter": "python",
   "pygments_lexer": "ipython3",
   "version": "3.9.21"
  }
 },
 "nbformat": 4,
 "nbformat_minor": 4
}
