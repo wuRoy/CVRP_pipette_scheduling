{
 "cells": [
  {
   "cell_type": "code",
   "execution_count": 8,
   "metadata": {},
   "outputs": [
    {
     "name": "stdout",
     "output_type": "stream",
     "text": [
      "The autoreload extension is already loaded. To reload it, use:\n",
      "  %reload_ext autoreload\n",
      "/home/yq-mew/yq/chem1906/Projects\n"
     ]
    }
   ],
   "source": [
    "%load_ext autoreload\n",
    "%autoreload 2\n",
    "%cd ..\n",
    "import numpy as np\n",
    "import matplotlib.pyplot as plt\n",
    "from src.ortools_solver import CVRP_solver\n",
    "from src.utils import random_choose_candidate_2\n",
    "from src.QAP_solver import calculate_D, calculate_S_E, calculate_D_prime,add_depot,calculate_T\n",
    "from src.optimization_methods import row_wise_optimization, greedy_scheduling\n",
    "import pandas as pd"
   ]
  },
  {
   "cell_type": "code",
   "execution_count": 9,
   "metadata": {},
   "outputs": [],
   "source": [
    "np.random.seed(0)\n",
    "num_candidates = 2000\n",
    "a = random_choose_candidate_2(96,96,num_candidates)\n",
    "a[a>0] = 1\n",
    "jobs = np.argwhere(a)"
   ]
  },
  {
   "cell_type": "code",
   "execution_count": null,
   "metadata": {},
   "outputs": [],
   "source": [
    "# CVRP distance matrix\n",
    "D_S = calculate_D(a.shape[0])\n",
    "D_D = calculate_D(a.shape[1])\n",
    "S, E = calculate_S_E(a)   \n",
    "# calculate distance matrix\n",
    "D_prime = calculate_D_prime(D_S,D_D, S, E)\n",
    "D_prime = add_depot(D_prime)\n",
    "VRP_distance, VRP_recorder = CVRP_solver(D_prime.astype(np.int64), solving_time =20)\n",
    "print(\"VRP distance: \", VRP_distance)"
   ]
  },
  {
   "cell_type": "code",
   "execution_count": null,
   "metadata": {},
   "outputs": [
    {
     "name": "stdout",
     "output_type": "stream",
     "text": [
      "non_optimized_distance: 3083\n"
     ]
    }
   ],
   "source": [
    "# calculate the cost of the non-optimized sequence\n",
    "tasks = np.array(range(jobs.shape[0]))\n",
    "tasks = tasks+1\n",
    "# if tasks.shape[0] %8 != 0, pad with -1\n",
    "if tasks.shape[0] %8 != 0:\n",
    "    tasks = np.pad(tasks, (0, 8-tasks.shape[0]%8), 'constant', constant_values=-1)\n",
    "unoptimized_seuqnece = tasks.reshape(-1, 8)\n",
    "t = calculate_T(unoptimized_seuqnece)\n",
    "d = D_prime[1:, 1:]\n",
    "non_optimized_distance = np.trace(np.dot(t.T, d))\n",
    "# change non_optimized_distance to integer\n",
    "non_optimized_distance = int(non_optimized_distance)\n",
    "print(f'non_optimized_distance: {non_optimized_distance}')"
   ]
  },
  {
   "cell_type": "code",
   "execution_count": null,
   "metadata": {},
   "outputs": [
    {
     "name": "stdout",
     "output_type": "stream",
     "text": [
      "row_wise_optimized_distance: 1776\n"
     ]
    }
   ],
   "source": [
    "# calculate the cost of the row-wise optimized sequence\n",
    "index_matrix = np.zeros((96,96))\n",
    "for j in range(jobs.shape[0]):\n",
    "    index_matrix[jobs[j, 0], jobs[j, 1]] = j+1\n",
    "row_wise_optimized_sequence = row_wise_optimization(index_matrix)\n",
    "if row_wise_optimized_sequence.shape[0] %8 != 0:\n",
    "    row_wise_optimized_sequence = np.pad(row_wise_optimized_sequence, (0, 8-row_wise_optimized_sequence.shape[0]%8), 'constant', constant_values=-1)\n",
    "row_wise_optimized_sequence = row_wise_optimized_sequence.reshape(-1, 8)\n",
    "t = calculate_T(row_wise_optimized_sequence)\n",
    "row_wise_optimized_distance = np.trace(np.dot(t.T, d))\n",
    "# change non_optimized_distance to integer\n",
    "row_wise_optimized_distance = int(row_wise_optimized_distance)\n",
    "print(f'row_wise_optimized_distance: {row_wise_optimized_distance}')"
   ]
  },
  {
   "cell_type": "code",
   "execution_count": null,
   "metadata": {},
   "outputs": [],
   "source": []
  }
 ],
 "metadata": {
  "kernelspec": {
   "display_name": "pipette_scheduling",
   "language": "python",
   "name": "python3"
  },
  "language_info": {
   "codemirror_mode": {
    "name": "ipython",
    "version": 3
   },
   "file_extension": ".py",
   "mimetype": "text/x-python",
   "name": "python",
   "nbconvert_exporter": "python",
   "pygments_lexer": "ipython3",
   "version": "3.9.21"
  }
 },
 "nbformat": 4,
 "nbformat_minor": 4
}
