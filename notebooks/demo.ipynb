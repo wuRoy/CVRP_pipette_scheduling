{
 "cells": [
  {
   "cell_type": "markdown",
   "metadata": {},
   "source": [
    "## Pipetting scheduling optimization with CVRP"
   ]
  },
  {
   "cell_type": "code",
   "execution_count": 7,
   "metadata": {},
   "outputs": [],
   "source": [
    "import numpy as np\n",
    "from utils import random_task_generation, print_command, get_optimized_sequence\n",
    "from pipette_scheduler import CVRP_pipette_scheduling, calculate_X,calculate_D,calculate_D_prime,calculate_S_E\n",
    "from ortools_solver import CVRP_solver"
   ]
  },
  {
   "cell_type": "markdown",
   "metadata": {},
   "source": [
    "## Input Task Matrix\n",
    "### Option 1: Import from CSV file\n",
    "Load your task matrix from a CSV file:\n",
    "- **Dimensions**: n×m matrix where n and m should be standard well plate sizes (12, 24, 96, or 384)\n",
    "- **Values**: Non-zero elements represent the volume of liquid transfer (in µL)\n",
    "- **Zero elements**: Indicate no transfer required between those wells\n",
    "- **Format**: Rows represent source wells, columns represent destination wells"
   ]
  },
  {
   "cell_type": "code",
   "execution_count": null,
   "metadata": {},
   "outputs": [],
   "source": [
    "task_matrix = np.genfromtxt('data/task_matrix.csv', delimiter=',')\n",
    "transfer_list = np.argwhere(task_matrix)"
   ]
  },
  {
   "cell_type": "markdown",
   "metadata": {},
   "source": [
    "### Option 2: Use random generation (for testing)"
   ]
  },
  {
   "cell_type": "code",
   "execution_count": 2,
   "metadata": {},
   "outputs": [],
   "source": [
    "np.random.seed(0)\n",
    "num_candidates = 100\n",
    "random_task_matrix = random_task_generation(12,12,num_candidates)\n",
    "random_transfer_list = np.argwhere(random_task_matrix)\n",
    "volumes = random_task_matrix[(random_transfer_list[:, 0], random_transfer_list[:, 1])]"
   ]
  },
  {
   "cell_type": "markdown",
   "metadata": {},
   "source": [
    "# Run optimization\n",
    "Use `CVRP_pipette_scheduling` to optimize the pipetting task sequence. This function applies the Capacitated Vehicle Routing Problem (CVRP) algorithm to minimize the total travel distance.\n",
    "\n",
    "### Parameters:\n",
    "- **`task_matrix`**: Input matrix (n×m) with transfer volumes in µL\n",
    "- **`aspirate_t`**: Fixed time (seconds) for aspiration operations - moving tips down/up and arm movement (default: 1 second)\n",
    "- **`aspirate_speed`**: Aspiration speed in µL/s (default: 10)\n",
    "- **`dispense_t`**: Fixed time (seconds) for dispensing operations - moving tips down/up and arm movement (default: 1 second)\n",
    "- **`dispense_speed`**: Dispensing speed in µL/s (default: 10)\n",
    "- **`cvrp_timewall`**: Maximum solving time in seconds for the CVRP solver (default: 10 second)\n",
    "- **`decimal_points`**: Number of decimal points for numerical precision (default: 2)\n",
    "\n",
    "### Returns:\n",
    "- **`optimized_distance`**: Optimized total travel time\n",
    "- **`optimized_sequence`**: Optimized sequence of pipetting operations"
   ]
  },
  {
   "cell_type": "code",
   "execution_count": 3,
   "metadata": {},
   "outputs": [],
   "source": [
    "cvrp_distance,cvrp_sequence = CVRP_pipette_scheduling(random_task_matrix, 2, 30, 1, 20)"
   ]
  },
  {
   "cell_type": "markdown",
   "metadata": {},
   "source": [
    "## Process Optimization Results\n",
    "\n",
    "After obtaining the optimized sequence from CVRP, we need to post-process the results to extract the actual pipetting operations in a usable format.\n",
    "\n",
    "### What this code does:\n",
    "1. **Flatten the sequence**: Convert the 2D CVRP sequence array to a 1D array\n",
    "2. **Remove padding**: Filter out -1 values (used as padding in CVRP solver)\n",
    "3. **Adjust indexing**: Convert from 1-based (CVRP solver) to 0-based (Python) indexing\n",
    "4. **Map to transfers**: Use the processed indices to get actual source→destination well pairs\n",
    "5. **Extract volumes**: Get the corresponding transfer volumes for each operation\n",
    "\n",
    "### Output variables:\n",
    "- **`output_sequence`**: Array of [source_well, destination_well] pairs in optimized order\n",
    "- **`output_volumes`**: Array of transfer volumes corresponding to each operation\n",
    "\n",
    "### Example output format:\n",
    "```\n",
    "output_sequence: [[2, 5], [7, 3], [1, 8], ...]  # Well pairs\n",
    "output_volumes:  [15.3, 22.1, 8.7, ...]         # Volumes in µL\n",
    "```\n",
    "\n",
    "This gives you the complete optimized pipetting protocol ready for exporting to your liquid handler."
   ]
  },
  {
   "cell_type": "code",
   "execution_count": 4,
   "metadata": {},
   "outputs": [],
   "source": [
    "flatten_cvrp_sequence = cvrp_sequence.flatten()\n",
    "flatten_cvrp_sequence = flatten_cvrp_sequence[flatten_cvrp_sequence!=-1] -1\n",
    "flatten_cvrp_sequence =flatten_cvrp_sequence.astype(int)\n",
    "output_sequence = random_transfer_list[flatten_cvrp_sequence]\n",
    "output_volumes = volumes[flatten_cvrp_sequence]"
   ]
  },
  {
   "cell_type": "markdown",
   "metadata": {},
   "source": [
    "## Generate Worklist Commands\n",
    "\n",
    "You can also use our `print_command` function for generating a formatted worklist that can be exported to liquid handling systems.\n"
   ]
  },
  {
   "cell_type": "code",
   "execution_count": 5,
   "metadata": {},
   "outputs": [
    {
     "data": {
      "text/plain": [
       "array([['source_name', '10', 'destination_name', '4', '12.0'],\n",
       "       ['source_name', '11', 'destination_name', '5', '24.0'],\n",
       "       ['source_name', '12', 'destination_name', '6', '29.0'],\n",
       "       ['source_name', '4', 'destination_name', '10', '24.0'],\n",
       "       ['source_name', '5', 'destination_name', '6', '6.0'],\n",
       "       ['source_name', '10', 'destination_name', '7', '62.0'],\n",
       "       ['source_name', '11', 'destination_name', '8', '60.0'],\n",
       "       ['source_name', '12', 'destination_name', '9', '85.0'],\n",
       "       ['source_name', '1', 'destination_name', '10', '68.0'],\n",
       "       ['source_name', '2', 'destination_name', '4', '30.0'],\n",
       "       ['source_name', '3', 'destination_name', '5', '35.0'],\n",
       "       ['source_name', '2', 'destination_name', '6', '37.0'],\n",
       "       ['source_name', '3', 'destination_name', '4', '81.0'],\n",
       "       ['source_name', '7', 'destination_name', '5', '83.0'],\n",
       "       ['source_name', '8', 'destination_name', '6', '86.0'],\n",
       "       ['source_name', '9', 'destination_name', '10', '19.0'],\n",
       "       ['source_name', '9', 'destination_name', '1', '25.0'],\n",
       "       ['source_name', '4', 'destination_name', '2', '33.0'],\n",
       "       ['source_name', '5', 'destination_name', '10', '43.0'],\n",
       "       ['source_name', '6', 'destination_name', '4', '47.0'],\n",
       "       ['source_name', '3', 'destination_name', '1', '1.0'],\n",
       "       ['source_name', '10', 'destination_name', '10', '33.0'],\n",
       "       ['source_name', '11', 'destination_name', '11', '53.0'],\n",
       "       ['source_name', '12', 'destination_name', '12', '88.0'],\n",
       "       ['source_name', '4', 'destination_name', '4', '15.0'],\n",
       "       ['source_name', '5', 'destination_name', '5', '4.0'],\n",
       "       ['source_name', '7', 'destination_name', '6', '88.0'],\n",
       "       ['source_name', '8', 'destination_name', '7', '89.0'],\n",
       "       ['source_name', '9', 'destination_name', '8', '88.0'],\n",
       "       ['source_name', '10', 'destination_name', '9', '10.0'],\n",
       "       ['source_name', '11', 'destination_name', '3', '4.0'],\n",
       "       ['source_name', '12', 'destination_name', '10', '29.0'],\n",
       "       ['source_name', '7', 'destination_name', '4', '47.0'],\n",
       "       ['source_name', '8', 'destination_name', '1', '66.0'],\n",
       "       ['source_name', '9', 'destination_name', '2', '38.0'],\n",
       "       ['source_name', '9', 'destination_name', '3', '28.0'],\n",
       "       ['source_name', '1', 'destination_name', '4', '99.0'],\n",
       "       ['source_name', '2', 'destination_name', '5', '11.0'],\n",
       "       ['source_name', '3', 'destination_name', '6', '13.0'],\n",
       "       ['source_name', '4', 'destination_name', '1', '5.0'],\n",
       "       ['source_name', '1', 'destination_name', '12', '35.0'],\n",
       "       ['source_name', '2', 'destination_name', '1', '36.0'],\n",
       "       ['source_name', '10', 'destination_name', '2', '96.0'],\n",
       "       ['source_name', '10', 'destination_name', '3', '97.0'],\n",
       "       ['source_name', '11', 'destination_name', '4', '57.0'],\n",
       "       ['source_name', '12', 'destination_name', '7', '94.0'],\n",
       "       ['source_name', '5', 'destination_name', '8', '93.0'],\n",
       "       ['source_name', '6', 'destination_name', '3', '92.0'],\n",
       "       ['source_name', '10', 'destination_name', '1', '11.0'],\n",
       "       ['source_name', '11', 'destination_name', '2', '56.0'],\n",
       "       ['source_name', '12', 'destination_name', '1', '41.0'],\n",
       "       ['source_name', '6', 'destination_name', '2', '45.0'],\n",
       "       ['source_name', '4', 'destination_name', '3', '47.0'],\n",
       "       ['source_name', '5', 'destination_name', '7', '84.0'],\n",
       "       ['source_name', '6', 'destination_name', '8', '57.0'],\n",
       "       ['source_name', '9', 'destination_name', '9', '3.0'],\n",
       "       ['source_name', '7', 'destination_name', '12', '12.0'],\n",
       "       ['source_name', '8', 'destination_name', '12', '23.0'],\n",
       "       ['source_name', '9', 'destination_name', '7', '80.0'],\n",
       "       ['source_name', '7', 'destination_name', '8', '88.0'],\n",
       "       ['source_name', '8', 'destination_name', '9', '62.0'],\n",
       "       ['source_name', '9', 'destination_name', '4', '96.0'],\n",
       "       ['source_name', '4', 'destination_name', '5', '82.0'],\n",
       "       ['source_name', '6', 'destination_name', '6', '81.0'],\n",
       "       ['source_name', '7', 'destination_name', '10', '76.0'],\n",
       "       ['source_name', '8', 'destination_name', '10', '74.0'],\n",
       "       ['source_name', '9', 'destination_name', '11', '66.0'],\n",
       "       ['source_name', '4', 'destination_name', '12', '56.0'],\n",
       "       ['source_name', '5', 'destination_name', '4', '81.0'],\n",
       "       ['source_name', '6', 'destination_name', '10', '81.0'],\n",
       "       ['source_name', '1', 'destination_name', '11', '37.0'],\n",
       "       ['source_name', '9', 'destination_name', '12', '41.0'],\n",
       "       ['source_name', '12', 'destination_name', '5', '7.0'],\n",
       "       ['source_name', '9', 'destination_name', '6', '12.0'],\n",
       "       ['source_name', '1', 'destination_name', '6', '95.0'],\n",
       "       ['source_name', '2', 'destination_name', '7', '72.0'],\n",
       "       ['source_name', '3', 'destination_name', '10', '99.0'],\n",
       "       ['source_name', '10', 'destination_name', '11', '85.0'],\n",
       "       ['source_name', '11', 'destination_name', '7', '36.0'],\n",
       "       ['source_name', '12', 'destination_name', '8', '40.0'],\n",
       "       ['source_name', '4', 'destination_name', '6', '37.0'],\n",
       "       ['source_name', '5', 'destination_name', '12', '71.0'],\n",
       "       ['source_name', '6', 'destination_name', '1', '68.0'],\n",
       "       ['source_name', '1', 'destination_name', '2', '70.0'],\n",
       "       ['source_name', '1', 'destination_name', '3', '89.0'],\n",
       "       ['source_name', '2', 'destination_name', '2', '19.0'],\n",
       "       ['source_name', '3', 'destination_name', '3', '89.0'],\n",
       "       ['source_name', '1', 'destination_name', '7', '1.0'],\n",
       "       ['source_name', '2', 'destination_name', '8', '42.0'],\n",
       "       ['source_name', '3', 'destination_name', '9', '53.0'],\n",
       "       ['source_name', '10', 'destination_name', '8', '4.0'],\n",
       "       ['source_name', '11', 'destination_name', '9', '2.0'],\n",
       "       ['source_name', '12', 'destination_name', '4', '10.0'],\n",
       "       ['source_name', '3', 'destination_name', '12', '1.0'],\n",
       "       ['source_name', '7', 'destination_name', '9', '18.0'],\n",
       "       ['source_name', '8', 'destination_name', '4', '31.0'],\n",
       "       ['source_name', '9', 'destination_name', '5', '59.0'],\n",
       "       ['source_name', '10', 'destination_name', '6', '74.0'],\n",
       "       ['source_name', '11', 'destination_name', '1', '22.0'],\n",
       "       ['source_name', '12', 'destination_name', '2', '59.0']],\n",
       "      dtype='<U32')"
      ]
     },
     "execution_count": 5,
     "metadata": {},
     "output_type": "execute_result"
    }
   ],
   "source": [
    "commands = print_command(flatten_cvrp_sequence,random_transfer_list,f'source_name', f'destination_name',volumes)\n",
    "commands"
   ]
  },
  {
   "cell_type": "markdown",
   "metadata": {},
   "source": [
    "Alternatively, the distance could be calculated as formula 5a"
   ]
  },
  {
   "cell_type": "code",
   "execution_count": null,
   "metadata": {},
   "outputs": [
    {
     "name": "stdout",
     "output_type": "stream",
     "text": [
      "CVRP distance:  154.59\n"
     ]
    }
   ],
   "source": [
    "nwells_source, nwells_destination = random_task_matrix.shape\n",
    "D_S = calculate_D(nwells_source)\n",
    "D_D = calculate_D(nwells_destination)\n",
    "S, E, volumes = calculate_S_E(random_task_matrix)\n",
    "D_prime = calculate_D_prime(D_S, D_D, S, E, volumes, 1, 100, 1, 100)\n",
    "# scale D_prime to avoid numerical issues\n",
    "_, recorder = CVRP_solver(np.round(D_prime* 100).astype(np.int64), solving_time=10)\n",
    "cvrp_sequence = get_optimized_sequence(recorder)\n",
    "X = calculate_X(cvrp_sequence)\n",
    "cvrp_distance = np.trace(np.dot(X.T, np.round(D_prime * 100))) / 100    # formula 5as\n",
    "print(\"CVRP distance: \", cvrp_distance)"
   ]
  }
 ],
 "metadata": {
  "kernelspec": {
   "display_name": "CVRP_scheduling",
   "language": "python",
   "name": "python3"
  },
  "language_info": {
   "codemirror_mode": {
    "name": "ipython",
    "version": 3
   },
   "file_extension": ".py",
   "mimetype": "text/x-python",
   "name": "python",
   "nbconvert_exporter": "python",
   "pygments_lexer": "ipython3",
   "version": "3.9.21"
  }
 },
 "nbformat": 4,
 "nbformat_minor": 4
}
