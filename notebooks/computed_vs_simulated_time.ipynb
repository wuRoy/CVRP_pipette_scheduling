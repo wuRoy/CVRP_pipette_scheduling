{
 "cells": [
  {
   "cell_type": "code",
   "execution_count": 7,
   "metadata": {},
   "outputs": [
    {
     "name": "stdout",
     "output_type": "stream",
     "text": [
      "The autoreload extension is already loaded. To reload it, use:\n",
      "  %reload_ext autoreload\n",
      "/home/yq-mew/yq/chem1906/Projects\n"
     ]
    }
   ],
   "source": [
    "%load_ext autoreload\n",
    "%autoreload 2\n",
    "%cd ..\n",
    "import numpy as np\n",
    "from src.utils import random_choose_candidate_2,print_command\n",
    "from src.cost_function import calculate_D, calculate_S_E, calculate_D_prime,add_depot,calculate_T\n",
    "from src.optimization_methods import row_wise_optimization, greedy_scheduling\n",
    "import pandas as pd\n",
    "from pathlib import Path"
   ]
  },
  {
   "cell_type": "code",
   "execution_count": 8,
   "metadata": {},
   "outputs": [],
   "source": [
    "labware_combinations = [[12,12],[24,24],[96,96],[384,384]]\n",
    "source_path = Path('/u/yq/chem1906/Projects/pipette_scheduling/analysis/cost_analysis/random_shuffling')"
   ]
  },
  {
   "cell_type": "code",
   "execution_count": 9,
   "metadata": {},
   "outputs": [
    {
     "name": "stdout",
     "output_type": "stream",
     "text": [
      "labware_combination: [12, 12]\n",
      "repeat: 0\n",
      "non_optimized_distance: 25\n",
      "non_optimized_distance: 58\n",
      "non_optimized_distance: 104\n",
      "repeat: 1\n",
      "non_optimized_distance: 30\n",
      "non_optimized_distance: 56\n",
      "non_optimized_distance: 106\n",
      "repeat: 2\n",
      "non_optimized_distance: 27\n",
      "non_optimized_distance: 56\n",
      "non_optimized_distance: 99\n",
      "labware_combination: [24, 24]\n",
      "repeat: 0\n",
      "non_optimized_distance: 71\n",
      "non_optimized_distance: 149\n",
      "non_optimized_distance: 288\n",
      "non_optimized_distance: 509\n",
      "repeat: 1\n",
      "non_optimized_distance: 69\n",
      "non_optimized_distance: 148\n",
      "non_optimized_distance: 282\n",
      "non_optimized_distance: 507\n",
      "repeat: 2\n",
      "non_optimized_distance: 69\n",
      "non_optimized_distance: 147\n",
      "non_optimized_distance: 296\n",
      "non_optimized_distance: 502\n",
      "labware_combination: [96, 96]\n",
      "repeat: 0\n",
      "non_optimized_distance: 147\n",
      "non_optimized_distance: 290\n",
      "non_optimized_distance: 619\n",
      "non_optimized_distance: 1269\n",
      "non_optimized_distance: 2524\n",
      "repeat: 1\n",
      "non_optimized_distance: 141\n",
      "non_optimized_distance: 285\n",
      "non_optimized_distance: 613\n",
      "non_optimized_distance: 1272\n",
      "non_optimized_distance: 2525\n",
      "repeat: 2\n",
      "non_optimized_distance: 135\n",
      "non_optimized_distance: 297\n",
      "non_optimized_distance: 611\n",
      "non_optimized_distance: 1270\n",
      "non_optimized_distance: 2532\n",
      "labware_combination: [384, 384]\n",
      "repeat: 0\n",
      "non_optimized_distance: 320\n",
      "non_optimized_distance: 658\n",
      "non_optimized_distance: 1373\n",
      "non_optimized_distance: 2783\n",
      "non_optimized_distance: 4156\n",
      "repeat: 1\n",
      "non_optimized_distance: 319\n",
      "non_optimized_distance: 659\n",
      "non_optimized_distance: 1369\n",
      "non_optimized_distance: 2785\n",
      "non_optimized_distance: 4170\n",
      "repeat: 2\n",
      "non_optimized_distance: 323\n",
      "non_optimized_distance: 658\n",
      "non_optimized_distance: 1367\n",
      "non_optimized_distance: 2782\n",
      "non_optimized_distance: 4163\n"
     ]
    }
   ],
   "source": [
    "stats = []\n",
    "df = pd.DataFrame(columns=['source_labware', 'dest_labware', 'num_samples', 'repeat', 'computed_run_time','name'])\n",
    "np.random.seed(0)\n",
    "for labware_combination in labware_combinations:\n",
    "        print(f'labware_combination: {labware_combination}')\n",
    "        count = 1\n",
    "        for r in range (3):\n",
    "            print('repeat:',r)\n",
    "            # define the number of experiments based on the labware combinations\n",
    "            if labware_combination[0] == 12 and labware_combination[1] == 12:\n",
    "                num_candidates_list = [20,40,80]\n",
    "            elif labware_combination[0] == 24 and labware_combination[1] == 24:\n",
    "                num_candidates_list = [50,100,200,400]\n",
    "            elif labware_combination[0] == 96 and labware_combination[1] == 96:\n",
    "                num_candidates_list = [100,200,400,800,1600]\n",
    "            elif labware_combination[0] == 384 and labware_combination[1] == 384:\n",
    "                num_candidates_list = [200,400,800,1600,2400]\n",
    "            for i in num_candidates_list:\n",
    "                #print(f'num_candidates={i}')\n",
    "                experiments = random_choose_candidate_2(labware_combination[0],labware_combination[1],i)\n",
    "                #experiments[experiments>0] = 1\n",
    "                jobs = np.argwhere(experiments)\n",
    "                volumes = []\n",
    "                for job in jobs:\n",
    "                    volumes.append(experiments[job[0],job[1]])\n",
    "                volumes = np.array(volumes)\n",
    "                D_S = calculate_D(experiments.shape[0])\n",
    "                D_D = calculate_D(experiments.shape[1])\n",
    "                S, E = calculate_S_E(experiments)   \n",
    "                # calculate distance matrix\n",
    "                D_prime = calculate_D_prime(D_S,D_D, S, E)\n",
    "                D_prime = add_depot(D_prime)\n",
    "                # calculate the cost of the non-optimized sequence\n",
    "                tasks = np.array(range(jobs.shape[0]))\n",
    "                tasks = tasks+1\n",
    "                # randomly shuffle the tasks\n",
    "                #np.random.shuffle(tasks)\n",
    "                \n",
    "                # if tasks.shape[0] %8 != 0, pad with -1\n",
    "                if tasks.shape[0] %8 != 0:\n",
    "                    tasks = np.pad(tasks, (0, 8-tasks.shape[0]%8), 'constant', constant_values=-1)\n",
    "                unoptimized_seuqnece = tasks.reshape(-1, 8)\n",
    "                t = calculate_T(unoptimized_seuqnece)\n",
    "                d = D_prime[1:, 1:]\n",
    "                non_optimized_distance = np.trace(np.dot(t.T, d))\n",
    "                # change non_optimized_distance to integer\n",
    "                non_optimized_distance = int(non_optimized_distance)\n",
    "                print(f'non_optimized_distance: {non_optimized_distance}')\n",
    "                # add the information to the dataframe\n",
    "                file_name = f\"{count}.csv\"\n",
    "                stats.append([labware_combination[0], labware_combination[1], i, r, non_optimized_distance, file_name])\n",
    "                unoptimized_command_line = print_command(np.array(range(jobs.shape[0])),jobs,f'source{labware_combination[0]}', f'dest{labware_combination[1]}',volumes)\n",
    "                np.savetxt(source_path / f'{labware_combination[0]}_{labware_combination[1]}'/file_name,\n",
    "                           unoptimized_command_line,fmt='%s',delimiter=',')\n",
    "                count += 1"
   ]
  },
  {
   "cell_type": "code",
   "execution_count": 10,
   "metadata": {},
   "outputs": [],
   "source": [
    "stat_df = pd.DataFrame(stats, columns=['source_labware', 'dest_labware', 'num_samples', 'repeat', 'computed_run_time','name'])\n",
    "stat_df.to_csv(source_path / 'random_shuffling_summary.csv', index=False)"
   ]
  },
  {
   "cell_type": "code",
   "execution_count": 12,
   "metadata": {},
   "outputs": [
    {
     "data": {
      "text/plain": [
       "Text(0, 0.5, 'Frequency')"
      ]
     },
     "execution_count": 12,
     "metadata": {},
     "output_type": "execute_result"
    },
    {
     "data": {
      "image/png": "[encoded data removed]",
      "text/plain": [
       "<Figure size 1000x600 with 1 Axes>"
      ]
     },
     "metadata": {},
     "output_type": "display_data"
    }
   ],
   "source": [
    "# plot the distrubution of the computed run time\n",
    "import matplotlib.pyplot as plt\n",
    "plt.figure(figsize=(10, 6))\n",
    "plt.hist(stat_df['computed_run_time'], bins=10, alpha=0.7, color='blue')\n",
    "plt.title('Distribution of Computed Run Time')\n",
    "plt.xlabel('Computed Run Time')\n",
    "plt.ylabel('Frequency')"
   ]
  },
  {
   "cell_type": "code",
   "execution_count": null,
   "metadata": {},
   "outputs": [],
   "source": []
  }
 ],
 "metadata": {
  "kernelspec": {
   "display_name": "pipette_scheduling",
   "language": "python",
   "name": "python3"
  },
  "language_info": {
   "codemirror_mode": {
    "name": "ipython",
    "version": 3
   },
   "file_extension": ".py",
   "mimetype": "text/x-python",
   "name": "python",
   "nbconvert_exporter": "python",
   "pygments_lexer": "ipython3",
   "version": "3.9.21"
  }
 },
 "nbformat": 4,
 "nbformat_minor": 4
}
