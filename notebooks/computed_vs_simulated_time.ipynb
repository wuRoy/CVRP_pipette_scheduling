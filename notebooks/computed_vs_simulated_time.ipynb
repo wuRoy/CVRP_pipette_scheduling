{
 "cells": [
  {
   "cell_type": "code",
   "execution_count": 1,
   "metadata": {},
   "outputs": [
    {
     "name": "stdout",
     "output_type": "stream",
     "text": [
      "/home/yq-mew/yq/chem1906/Projects/pipette_scheduling\n"
     ]
    },
    {
     "name": "stderr",
     "output_type": "stream",
     "text": [
      "/u/yq/chem1906/anaconda3/envs/pipette_scheduling/lib/python3.9/site-packages/tqdm/auto.py:21: TqdmWarning: IProgress not found. Please update jupyter and ipywidgets. See https://ipywidgets.readthedocs.io/en/stable/user_install.html\n",
      "  from .autonotebook import tqdm as notebook_tqdm\n"
     ]
    }
   ],
   "source": [
    "%load_ext autoreload\n",
    "%autoreload 2\n",
    "%cd ..\n",
    "import numpy as np\n",
    "from src.utils import random_choose_candidate_2,show_matrix, get_optimized_sequence,print_command\n",
    "from src.pipette_scheduler import calculate_D, calculate_S_E, calculate_D_prime,calculate_T_test\n",
    "import pandas as pd\n",
    "from pathlib import Path"
   ]
  },
  {
   "cell_type": "code",
   "execution_count": 2,
   "metadata": {},
   "outputs": [],
   "source": [
    "labware_combinations = [[12,12],[24,24],[96,96],[384,384]]\n",
    "source_path = Path('/u/yq/chem1906/Projects/pipette_scheduling/analysis/cost_analysis/random_shuffling')"
   ]
  },
  {
   "cell_type": "code",
   "execution_count": 3,
   "metadata": {},
   "outputs": [
    {
     "name": "stdout",
     "output_type": "stream",
     "text": [
      "labware_combination: [12, 12]\n",
      "repeat: 0\n",
      "non_optimized_distance: 91\n",
      "non_optimized_distance: 192\n",
      "non_optimized_distance: 383\n",
      "repeat: 1\n",
      "non_optimized_distance: 96\n",
      "non_optimized_distance: 189\n",
      "non_optimized_distance: 368\n",
      "repeat: 2\n",
      "non_optimized_distance: 97\n",
      "non_optimized_distance: 195\n",
      "non_optimized_distance: 377\n",
      "labware_combination: [24, 24]\n",
      "repeat: 0\n",
      "non_optimized_distance: 185\n",
      "non_optimized_distance: 388\n",
      "non_optimized_distance: 775\n",
      "non_optimized_distance: 1572\n",
      "repeat: 1\n",
      "non_optimized_distance: 189\n",
      "non_optimized_distance: 398\n",
      "non_optimized_distance: 770\n",
      "non_optimized_distance: 1579\n",
      "repeat: 2\n",
      "non_optimized_distance: 188\n",
      "non_optimized_distance: 397\n",
      "non_optimized_distance: 781\n",
      "non_optimized_distance: 1572\n",
      "labware_combination: [96, 96]\n",
      "repeat: 0\n",
      "non_optimized_distance: 393\n",
      "non_optimized_distance: 793\n",
      "non_optimized_distance: 1584\n",
      "non_optimized_distance: 3197\n",
      "non_optimized_distance: 6332\n",
      "repeat: 1\n",
      "non_optimized_distance: 403\n",
      "non_optimized_distance: 801\n",
      "non_optimized_distance: 1569\n",
      "non_optimized_distance: 3206\n",
      "non_optimized_distance: 6360\n",
      "repeat: 2\n",
      "non_optimized_distance: 390\n",
      "non_optimized_distance: 815\n",
      "non_optimized_distance: 1580\n",
      "non_optimized_distance: 3151\n",
      "non_optimized_distance: 6360\n",
      "labware_combination: [384, 384]\n",
      "repeat: 0\n",
      "non_optimized_distance: 792\n",
      "non_optimized_distance: 1590\n",
      "non_optimized_distance: 3182\n",
      "non_optimized_distance: 6399\n",
      "non_optimized_distance: 9571\n",
      "repeat: 1\n",
      "non_optimized_distance: 786\n",
      "non_optimized_distance: 1607\n",
      "non_optimized_distance: 3204\n",
      "non_optimized_distance: 6398\n",
      "non_optimized_distance: 9575\n",
      "repeat: 2\n",
      "non_optimized_distance: 795\n",
      "non_optimized_distance: 1601\n",
      "non_optimized_distance: 3215\n",
      "non_optimized_distance: 6436\n",
      "non_optimized_distance: 9610\n"
     ]
    }
   ],
   "source": [
    "stats = []\n",
    "df = pd.DataFrame(columns=['source_labware', 'dest_labware', 'num_samples', 'repeat', 'computed_run_time','name'])\n",
    "np.random.seed(0)\n",
    "for labware_combination in labware_combinations:\n",
    "        print(f'labware_combination: {labware_combination}')\n",
    "        count = 1\n",
    "        for r in range (3):\n",
    "            print('repeat:',r)\n",
    "            # define the number of experiments based on the labware combinations\n",
    "            if labware_combination[0] == 12 and labware_combination[1] == 12:\n",
    "                num_candidates_list = [25,50,100]\n",
    "            elif labware_combination[0] == 24 and labware_combination[1] == 24:\n",
    "                num_candidates_list = [50,100,200,400]\n",
    "            elif labware_combination[0] == 96 and labware_combination[1] == 96:\n",
    "                num_candidates_list = [100,200,400,800,1600]\n",
    "            elif labware_combination[0] == 384 and labware_combination[1] == 384:\n",
    "                num_candidates_list = [200,400,800,1600,2400]\n",
    "            for i in num_candidates_list:\n",
    "                #print(f'num_candidates={i}')\n",
    "                experiments = random_choose_candidate_2(labware_combination[0],labware_combination[1],i)\n",
    "                #experiments[experiments>0] = 1\n",
    "                jobs = np.argwhere(experiments)\n",
    "\n",
    "                D_S = calculate_D(experiments.shape[0])\n",
    "                D_D = calculate_D(experiments.shape[1])\n",
    "                S, E, volumes = calculate_S_E(experiments)\n",
    "                # calculate distance matrix\n",
    "                D_prime = calculate_D_prime(D_S, D_D, S, E, volumes, 1.5, 100, 1.5, 100)\n",
    "                # calculate the cost of the non-optimized sequence\n",
    "                tasks = np.array(range(jobs.shape[0]))\n",
    "                # randomly shuffle the tasks\n",
    "                np.random.shuffle(tasks)\n",
    "                tasks_paddled = tasks.copy() +1\n",
    "                # if tasks.shape[0] %8 != 0, pad with -1\n",
    "                if tasks_paddled.shape[0] %8 != 0:\n",
    "                    tasks_paddled = np.pad(tasks_paddled, (0, 8-tasks_paddled.shape[0]%8), 'constant', constant_values=-1)\n",
    "                unoptimized_seuqnece = tasks_paddled.reshape(-1, 8)\n",
    "                t = calculate_T_test(unoptimized_seuqnece)\n",
    "                d = np.round(D_prime * 100)\n",
    "                non_optimized_distance = np.trace(np.dot(t.T, d))/100\n",
    "                # change non_optimized_distance to integer\n",
    "                non_optimized_distance = int(non_optimized_distance)\n",
    "                print(f'non_optimized_distance: {non_optimized_distance}')\n",
    "                # add the information to the dataframe\n",
    "                file_name = f\"{count}.csv\"\n",
    "                stats.append([labware_combination[0], labware_combination[1], i, r, non_optimized_distance, file_name])\n",
    "                unoptimized_command_line = print_command(tasks,jobs,f'source{labware_combination[0]}', f'dest{labware_combination[1]}',volumes)\n",
    "                np.savetxt(source_path / f'{labware_combination[0]}_{labware_combination[1]}'/file_name,\n",
    "                           unoptimized_command_line,fmt='%s',delimiter=',')\n",
    "                count += 1"
   ]
  },
  {
   "cell_type": "code",
   "execution_count": 4,
   "metadata": {},
   "outputs": [],
   "source": [
    "stat_df = pd.DataFrame(stats, columns=['source_labware', 'dest_labware', 'num_samples', 'repeat', 'computed_run_time','name'])\n",
    "stat_df.to_csv(source_path / 'random_shuffling_summary.csv', index=False)"
   ]
  },
  {
   "cell_type": "code",
   "execution_count": 5,
   "metadata": {},
   "outputs": [
    {
     "data": {
      "text/plain": [
       "Text(0, 0.5, 'Frequency')"
      ]
     },
     "execution_count": 5,
     "metadata": {},
     "output_type": "execute_result"
    },
    {
     "data": {
      "image/png": "[encoded data removed]",
      "text/plain": [
       "<Figure size 1000x600 with 1 Axes>"
      ]
     },
     "metadata": {},
     "output_type": "display_data"
    }
   ],
   "source": [
    "# plot the distrubution of the computed run time\n",
    "import matplotlib.pyplot as plt\n",
    "plt.figure(figsize=(10, 6))\n",
    "plt.hist(stat_df['computed_run_time'], bins=10, alpha=0.7, color='blue')\n",
    "plt.title('Distribution of Computed Run Time')\n",
    "plt.xlabel('Computed Run Time')\n",
    "plt.ylabel('Frequency')"
   ]
  },
  {
   "cell_type": "code",
   "execution_count": null,
   "metadata": {},
   "outputs": [],
   "source": []
  }
 ],
 "metadata": {
  "kernelspec": {
   "display_name": "pipette_scheduling",
   "language": "python",
   "name": "python3"
  },
  "language_info": {
   "codemirror_mode": {
    "name": "ipython",
    "version": 3
   },
   "file_extension": ".py",
   "mimetype": "text/x-python",
   "name": "python",
   "nbconvert_exporter": "python",
   "pygments_lexer": "ipython3",
   "version": "3.9.21"
  }
 },
 "nbformat": 4,
 "nbformat_minor": 4
}
