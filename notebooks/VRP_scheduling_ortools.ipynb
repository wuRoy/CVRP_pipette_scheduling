{
 "cells": [
  {
   "cell_type": "code",
   "execution_count": 1,
   "metadata": {},
   "outputs": [
    {
     "name": "stderr",
     "output_type": "stream",
     "text": [
      "/u/yq/chem1906/anaconda3/envs/pipette_scheduling/lib/python3.9/site-packages/tqdm/auto.py:21: TqdmWarning: IProgress not found. Please update jupyter and ipywidgets. See https://ipywidgets.readthedocs.io/en/stable/user_install.html\n",
      "  from .autonotebook import tqdm as notebook_tqdm\n"
     ]
    }
   ],
   "source": [
    "import numpy as np\n",
    "import matplotlib.pyplot as plt\n",
    "from ortools_solver import CVRP_solver\n",
    "from utils import random_choose_candidate, distance_calculator, calculate_distance_matrix, show_matrix, get_optimized_sequence\n",
    "from QAP_solver import calculate_S_E, calculate_D_prime, calculate_T\n",
    "import pygmtools as pygm"
   ]
  },
  {
   "cell_type": "code",
   "execution_count": 2,
   "metadata": {},
   "outputs": [],
   "source": [
    "D = np.ones((96,96))\n",
    "for i in range(96):\n",
    "    for j in range(96):\n",
    "        if i//8 == j//8:\n",
    "            if i-j == -1:\n",
    "                D[i,j] = 0"
   ]
  },
  {
   "cell_type": "code",
   "execution_count": 3,
   "metadata": {},
   "outputs": [],
   "source": [
    "# row is the source, column is the destination\n",
    "a= np.eye(96)\n",
    "a = random_choose_candidate(96,96,4)\n",
    "# randomly shuffle the rows\n",
    "#np.random.shuffle(a)\n",
    "# binarize the matrix as 0 and 1\n",
    "a[a>0] = 1\n",
    "# generate the job pair\n",
    "jobs = np.argwhere(a)\n",
    "#distance_matrix = calculate_distance_matrix(jobs)\n",
    "#S,E = calculate_S_E(jobs)\n",
    "#D_prime = calculate_D_prime(D, S, E)"
   ]
  },
  {
   "cell_type": "code",
   "execution_count": 4,
   "metadata": {},
   "outputs": [
    {
     "data": {
      "text/plain": [
       "array([0.26, 0.1 , 0.26, 0.38, 0.36, 0.32, 0.06, 0.26, 0.32, 0.43, 0.21,\n",
       "       0.05, 0.39, 0.05, 0.05, 0.51, 0.07, 0.34, 0.24, 0.34, 0.22, 0.17,\n",
       "       0.08, 0.53, 0.4 , 0.44, 0.02, 0.14, 0.11, 0.47, 0.17, 0.25, 0.18,\n",
       "       0.35, 0.2 , 0.27, 0.2 , 0.24, 0.28, 0.29, 0.09, 0.01, 0.74, 0.16,\n",
       "       0.01, 0.37, 0.32, 0.3 , 0.13, 0.34, 0.15, 0.38, 0.18, 0.25, 0.21,\n",
       "       0.37, 0.05, 0.28, 0.44, 0.23, 0.4 , 0.02, 0.49, 0.09, 0.35, 0.28,\n",
       "       0.22, 0.15, 0.21, 0.36, 0.14, 0.29, 0.04, 0.64, 0.21, 0.1 , 0.06,\n",
       "       0.65, 0.13, 0.16, 0.2 , 0.28, 0.4 , 0.12, 0.27, 0.23, 0.5 , 0.47,\n",
       "       0.04, 0.36, 0.12, 0.25, 0.35, 0.33, 0.07, 0.25, 0.17, 0.3 , 0.29,\n",
       "       0.4 , 0.1 , 0.14, 0.36, 0.14, 0.16, 0.36, 0.34, 0.06, 0.28, 0.52,\n",
       "       0.15, 0.3 , 0.2 , 0.25, 0.25, 0.38, 0.26, 0.32, 0.04, 0.18, 0.25,\n",
       "       0.4 , 0.18, 0.07, 0.33, 0.09, 0.51, 0.23, 0.26, 0.39, 0.12, 0.26,\n",
       "       0.11, 0.21, 0.42, 0.47, 0.12, 0.07, 0.35, 0.47, 0.2 , 0.2 , 0.13,\n",
       "       0.25, 0.2 , 0.1 , 0.45, 0.06, 0.46, 0.07, 0.41, 0.07, 0.4 , 0.19,\n",
       "       0.34, 0.16, 0.2 , 0.52, 0.12, 0.49, 0.02, 0.49, 0.25, 0.19, 0.23,\n",
       "       0.33, 0.36, 0.47, 0.17, 0.4 , 0.13, 0.37, 0.1 , 0.11, 0.35, 0.3 ,\n",
       "       0.24, 0.3 , 0.3 , 0.24, 0.16, 0.06, 0.39, 0.2 , 0.34, 0.1 , 0.38,\n",
       "       0.45, 0.07, 0.19, 0.26, 0.29, 0.26, 0.27, 0.15, 0.2 , 0.38, 0.28,\n",
       "       0.3 , 0.2 , 0.22, 0.04, 0.29, 0.49, 0.17, 0.14, 0.22, 0.26, 0.39,\n",
       "       0.07, 0.37, 0.12, 0.44, 0.22, 0.25, 0.47, 0.06, 0.1 , 0.11, 0.45,\n",
       "       0.34, 0.25, 0.31, 0.45, 0.04, 0.34, 0.5 , 0.12, 0.26, 0.3 , 0.11,\n",
       "       0.34, 0.27, 0.07, 0.38, 0.27, 0.38, 0.29, 0.21, 0.13, 0.04, 0.12,\n",
       "       0.02, 0.82, 0.18, 0.29, 0.36, 0.17, 0.19, 0.42, 0.38, 0.01, 0.33,\n",
       "       0.3 , 0.21, 0.15, 0.45, 0.34, 0.07, 0.13, 0.13, 0.37, 0.18, 0.32,\n",
       "       0.04, 0.26, 0.12, 0.58, 0.35, 0.12, 0.34, 0.19, 0.54, 0.32, 0.1 ,\n",
       "       0.05, 0.07, 0.51, 0.23, 0.2 , 0.25, 0.23, 0.16, 0.36, 0.25, 0.04,\n",
       "       0.08, 0.63, 0.27, 0.31, 0.2 , 0.22, 0.42, 0.51, 0.07, 0.01, 0.41,\n",
       "       0.18, 0.41, 0.38, 0.49, 0.07, 0.06, 0.28, 0.35, 0.11, 0.27, 0.1 ,\n",
       "       0.43, 0.2 , 0.27, 0.27, 0.21, 0.19, 0.33, 0.27, 0.33, 0.31, 0.09,\n",
       "       0.49, 0.19, 0.12, 0.21, 0.2 , 0.04, 0.3 , 0.46, 0.22, 0.39, 0.38,\n",
       "       0.36, 0.19, 0.32, 0.12, 0.37, 0.09, 0.15, 0.4 , 0.32, 0.27, 0.35,\n",
       "       0.05, 0.03, 0.38, 0.43, 0.16, 0.03, 0.07, 0.43, 0.48, 0.27, 0.1 ,\n",
       "       0.46, 0.17, 0.15, 0.27, 0.21, 0.37, 0.22, 0.2 , 0.42, 0.16, 0.14,\n",
       "       0.2 , 0.21, 0.46, 0.1 , 0.33, 0.25, 0.33, 0.19, 0.26, 0.2 , 0.35,\n",
       "       0.05, 0.59, 0.06, 0.3 ])"
      ]
     },
     "execution_count": 4,
     "metadata": {},
     "output_type": "execute_result"
    }
   ],
   "source": [
    "a = random_choose_candidate(96,96,4)\n",
    "jobs = np.argwhere(a)\n",
    "volume = [a[i,j] for i,j in jobs]\n",
    "volume = np.array(volume)\n",
    "volume"
   ]
  },
  {
   "cell_type": "code",
   "execution_count": 5,
   "metadata": {},
   "outputs": [],
   "source": [
    "def CVRP_QAP(jobs,iteration=5):\n",
    "    output_P = np.eye(96)\n",
    "    S,E = calculate_S_E(jobs)\n",
    "    D_prime = calculate_D_prime(D, S, E)\n",
    "    best_cost = float('inf')\n",
    "    for i in range(iteration):\n",
    "        # construct & update CVRP\n",
    "        D_prime = np.vstack((np.zeros(D_prime.shape[0]), D_prime))\n",
    "        D_prime = np.hstack((np.zeros((D_prime.shape[0], 1)), D_prime))\n",
    "        \n",
    "        # solve CVRP\n",
    "        optimized_distance,recorder = CVRP_solver(D_prime.astype(np.int64), solving_time=2)\n",
    "        \n",
    "        optimized_seuqnecess = get_optimized_sequence(recorder)\n",
    "        t = calculate_T(optimized_seuqnecess)\n",
    "        D_prime = D_prime[1:,1:]\n",
    "        # cost = trace (T^T * D_prime)\n",
    "        cost = np.trace(np.dot(t.T,D_prime))\n",
    "        print(f'iter={i}, cost={cost} after CVRP')\n",
    "        \n",
    "        # construct QAP\n",
    "        A = np.dot(np.dot(E.T,t.T),E)\n",
    "        B = D\n",
    "        K = np.kron(1-B, A.T) # transform minimization into maximization\n",
    "        \n",
    "        # solve QAP\n",
    "        P = pygm.ipfp((K + K.T),n1=96,n2=96, x0=np.eye(96)[None,:,:])\n",
    "\n",
    "        # new_E = E * P\n",
    "        new_E = np.dot(E,P)\n",
    "        #new D_prime = S * D * S^T + new_E * D * new_E^T\n",
    "        new_D_prime = np.dot(np.dot(S,D),S.T) + np.dot(np.dot(new_E,D),new_E.T)\n",
    "        cost = np.trace(np.dot(t.T,new_D_prime))\n",
    "        output_P = np.dot(output_P,P)\n",
    "        print(f'iter={i}, cost={cost} after QAP')\n",
    "        if best_cost > cost:\n",
    "            best_cost = cost\n",
    "            best_output_P = output_P\n",
    "\n",
    "        # update params\n",
    "        D_prime = new_D_prime\n",
    "        E = new_E\n",
    "    return best_cost, best_output_P"
   ]
  },
  {
   "cell_type": "code",
   "execution_count": 6,
   "metadata": {},
   "outputs": [],
   "source": [
    "def print_command(flatten_sequence, jobs):\n",
    "    command_line = []\n",
    "    for i in range(flatten_sequence.shape[0]):\n",
    "    # add the command line base on the index, set the volume as 20ul by default\n",
    "        command_line.append(\n",
    "        ['source',\n",
    "            jobs[flatten_sequence[i],0]+1,\n",
    "            'dest',\n",
    "            jobs[flatten_sequence[i],1]+1,\n",
    "            20])\n",
    "    command_line = np.array(command_line) \n",
    "    return command_line"
   ]
  },
  {
   "cell_type": "code",
   "execution_count": 7,
   "metadata": {},
   "outputs": [
    {
     "name": "stdout",
     "output_type": "stream",
     "text": [
      "Objective: 347\n",
      "iter=0, cost=347.0 after CVRP\n",
      "iter=0, cost=347.0 after QAP\n",
      "Objective: 350\n",
      "iter=1, cost=350.0 after CVRP\n"
     ]
    },
    {
     "name": "stderr",
     "output_type": "stream",
     "text": [
      "/u/yq/chem1906/anaconda3/envs/pipette_scheduling/lib/python3.9/site-packages/pygmtools/numpy_backend.py:308: RuntimeWarning: divide by zero encountered in divide\n",
      "  t0 = - alpha / beta\n",
      "/u/yq/chem1906/anaconda3/envs/pipette_scheduling/lib/python3.9/site-packages/pygmtools/numpy_backend.py:309: RuntimeWarning: invalid value encountered in multiply\n",
      "  v = np.where(np.logical_or(beta >= 0, t0 >= 1), binary_v, v + t0 * (binary_v - v))\n"
     ]
    },
    {
     "name": "stdout",
     "output_type": "stream",
     "text": [
      "iter=1, cost=348.0 after QAP\n",
      "Objective: 348\n",
      "iter=2, cost=348.0 after CVRP\n"
     ]
    },
    {
     "name": "stderr",
     "output_type": "stream",
     "text": [
      "/u/yq/chem1906/anaconda3/envs/pipette_scheduling/lib/python3.9/site-packages/pygmtools/numpy_backend.py:308: RuntimeWarning: invalid value encountered in divide\n",
      "  t0 = - alpha / beta\n"
     ]
    },
    {
     "name": "stdout",
     "output_type": "stream",
     "text": [
      "iter=2, cost=346.0 after QAP\n",
      "Objective: 337\n",
      "iter=3, cost=337.0 after CVRP\n",
      "iter=3, cost=337.0 after QAP\n",
      "Objective: 340\n",
      "iter=4, cost=340.0 after CVRP\n",
      "iter=4, cost=340.0 after QAP\n",
      "Objective: 340\n",
      "iter=5, cost=340.0 after CVRP\n",
      "iter=5, cost=340.0 after QAP\n",
      "Objective: 340\n",
      "iter=6, cost=340.0 after CVRP\n",
      "iter=6, cost=340.0 after QAP\n",
      "Objective: 340\n",
      "iter=7, cost=340.0 after CVRP\n",
      "iter=7, cost=340.0 after QAP\n",
      "Objective: 340\n",
      "iter=8, cost=340.0 after CVRP\n",
      "iter=8, cost=340.0 after QAP\n",
      "Objective: 340\n",
      "iter=9, cost=340.0 after CVRP\n",
      "iter=9, cost=340.0 after QAP\n",
      "Objective: 340\n",
      "iter=10, cost=340.0 after CVRP\n",
      "iter=10, cost=340.0 after QAP\n",
      "Objective: 340\n",
      "iter=11, cost=340.0 after CVRP\n",
      "iter=11, cost=340.0 after QAP\n",
      "Objective: 340\n",
      "iter=12, cost=340.0 after CVRP\n",
      "iter=12, cost=340.0 after QAP\n",
      "Objective: 340\n",
      "iter=13, cost=340.0 after CVRP\n",
      "iter=13, cost=340.0 after QAP\n",
      "Objective: 340\n",
      "iter=14, cost=340.0 after CVRP\n",
      "iter=14, cost=340.0 after QAP\n",
      "Objective: 340\n",
      "iter=15, cost=340.0 after CVRP\n",
      "iter=15, cost=340.0 after QAP\n",
      "Objective: 340\n",
      "iter=16, cost=340.0 after CVRP\n",
      "iter=16, cost=340.0 after QAP\n",
      "Objective: 340\n",
      "iter=17, cost=340.0 after CVRP\n",
      "iter=17, cost=340.0 after QAP\n",
      "Objective: 340\n",
      "iter=18, cost=340.0 after CVRP\n",
      "iter=18, cost=340.0 after QAP\n",
      "Objective: 340\n",
      "iter=19, cost=340.0 after CVRP\n",
      "iter=19, cost=340.0 after QAP\n"
     ]
    }
   ],
   "source": [
    "test_cost, test_P = CVRP_QAP(jobs,iteration=20)"
   ]
  },
  {
   "cell_type": "code",
   "execution_count": 8,
   "metadata": {},
   "outputs": [
    {
     "name": "stdout",
     "output_type": "stream",
     "text": [
      "Objective: 350\n"
     ]
    }
   ],
   "source": [
    "update_a = np.dot(a,test_P)\n",
    "jobs = np.argwhere(update_a)\n",
    "distance_matrix = calculate_distance_matrix(jobs)\n",
    "VRP_distance, VRP_recorder = CVRP_solver(distance_matrix)\n",
    "recorder = get_optimized_sequence(VRP_recorder)"
   ]
  },
  {
   "cell_type": "code",
   "execution_count": 9,
   "metadata": {},
   "outputs": [],
   "source": [
    "sequence = recorder.flatten()\n",
    "sequence = sequence[sequence!=-1] -1\n",
    "command_line = print_command(sequence,jobs)\n",
    "np.savetxt('optimized_command_line.csv',command_line,fmt='%s',delimiter=',')"
   ]
  },
  {
   "cell_type": "code",
   "execution_count": 10,
   "metadata": {},
   "outputs": [],
   "source": [
    "jobs = np.argwhere(a)\n",
    "unoptimized_command_line = print_command(np.array(range(jobs.shape[0])),jobs)\n",
    "np.savetxt('unoptimized_command_line.csv',unoptimized_command_line,fmt='%s',delimiter=',')"
   ]
  },
  {
   "cell_type": "code",
   "execution_count": 11,
   "metadata": {},
   "outputs": [
    {
     "name": "stdout",
     "output_type": "stream",
     "text": [
      "Objective: 91\n",
      "iter=0, cost=91.0 after CVRP\n",
      "iter=0, cost=71.0 after QAP\n",
      "Objective: 64\n",
      "iter=1, cost=64.0 after CVRP\n",
      "iter=1, cost=62.0 after QAP\n",
      "Objective: 62\n",
      "iter=2, cost=62.0 after CVRP\n",
      "iter=2, cost=62.0 after QAP\n",
      "Objective: 63\n",
      "iter=3, cost=63.0 after CVRP\n",
      "iter=3, cost=60.0 after QAP\n",
      "Objective: 60\n",
      "iter=4, cost=60.0 after CVRP\n",
      "iter=4, cost=59.0 after QAP\n",
      "Objective: 86\n",
      "Objective: 188\n",
      "iter=0, cost=188.0 after CVRP\n",
      "iter=0, cost=170.0 after QAP\n",
      "Objective: 169\n",
      "iter=1, cost=169.0 after CVRP\n",
      "iter=1, cost=166.0 after QAP\n",
      "Objective: 163\n",
      "iter=2, cost=163.0 after CVRP\n",
      "iter=2, cost=161.0 after QAP\n",
      "Objective: 170\n",
      "iter=3, cost=170.0 after CVRP\n",
      "iter=3, cost=168.0 after QAP\n",
      "Objective: 159\n",
      "iter=4, cost=159.0 after CVRP\n",
      "iter=4, cost=159.0 after QAP\n",
      "Objective: 188\n",
      "Objective: 276\n",
      "iter=0, cost=276.0 after CVRP\n",
      "iter=0, cost=273.0 after QAP\n",
      "Objective: 277\n",
      "iter=1, cost=277.0 after CVRP\n",
      "iter=1, cost=270.0 after QAP\n",
      "Objective: 265\n",
      "iter=2, cost=265.0 after CVRP\n",
      "iter=2, cost=263.0 after QAP\n",
      "Objective: 273\n",
      "iter=3, cost=273.0 after CVRP\n",
      "iter=3, cost=272.0 after QAP\n",
      "Objective: 264\n",
      "iter=4, cost=264.0 after CVRP\n",
      "iter=4, cost=264.0 after QAP\n",
      "Objective: 276\n",
      "Objective: 360\n",
      "iter=0, cost=360.0 after CVRP\n",
      "iter=0, cost=359.0 after QAP\n",
      "Objective: 358\n",
      "iter=1, cost=358.0 after CVRP\n",
      "iter=1, cost=358.0 after QAP\n",
      "Objective: 358\n",
      "iter=2, cost=358.0 after CVRP\n",
      "iter=2, cost=358.0 after QAP\n",
      "Objective: 358\n",
      "iter=3, cost=358.0 after CVRP\n",
      "iter=3, cost=358.0 after QAP\n",
      "Objective: 358\n",
      "iter=4, cost=358.0 after CVRP\n",
      "iter=4, cost=358.0 after QAP\n",
      "Objective: 360\n",
      "Objective: 445\n",
      "iter=0, cost=445.0 after CVRP\n",
      "iter=0, cost=445.0 after QAP\n",
      "Objective: 445\n",
      "iter=1, cost=445.0 after CVRP\n",
      "iter=1, cost=445.0 after QAP\n",
      "Objective: 445\n",
      "iter=2, cost=445.0 after CVRP\n",
      "iter=2, cost=445.0 after QAP\n",
      "Objective: 445\n",
      "iter=3, cost=445.0 after CVRP\n",
      "iter=3, cost=445.0 after QAP\n",
      "Objective: 445\n",
      "iter=4, cost=445.0 after CVRP\n",
      "iter=4, cost=445.0 after QAP\n",
      "Objective: 445\n",
      "Objective: 528\n",
      "iter=0, cost=528.0 after CVRP\n",
      "iter=0, cost=528.0 after QAP\n",
      "Objective: 528\n",
      "iter=1, cost=528.0 after CVRP\n",
      "iter=1, cost=528.0 after QAP\n",
      "Objective: 528\n",
      "iter=2, cost=528.0 after CVRP\n",
      "iter=2, cost=528.0 after QAP\n",
      "Objective: 528\n",
      "iter=3, cost=528.0 after CVRP\n",
      "iter=3, cost=528.0 after QAP\n",
      "Objective: 528\n",
      "iter=4, cost=528.0 after CVRP\n",
      "iter=4, cost=528.0 after QAP\n",
      "Objective: 528\n",
      "Objective: 590\n",
      "iter=0, cost=590.0 after CVRP\n",
      "iter=0, cost=590.0 after QAP\n",
      "Objective: 590\n",
      "iter=1, cost=590.0 after CVRP\n",
      "iter=1, cost=590.0 after QAP\n",
      "Objective: 590\n",
      "iter=2, cost=590.0 after CVRP\n",
      "iter=2, cost=590.0 after QAP\n",
      "Objective: 590\n",
      "iter=3, cost=590.0 after CVRP\n",
      "iter=3, cost=590.0 after QAP\n",
      "Objective: 590\n",
      "iter=4, cost=590.0 after CVRP\n",
      "iter=4, cost=590.0 after QAP\n",
      "Objective: 590\n",
      "Objective: 667\n",
      "iter=0, cost=667.0 after CVRP\n",
      "iter=0, cost=667.0 after QAP\n",
      "Objective: 667\n",
      "iter=1, cost=667.0 after CVRP\n",
      "iter=1, cost=667.0 after QAP\n",
      "Objective: 667\n",
      "iter=2, cost=667.0 after CVRP\n",
      "iter=2, cost=667.0 after QAP\n",
      "Objective: 667\n",
      "iter=3, cost=667.0 after CVRP\n",
      "iter=3, cost=667.0 after QAP\n",
      "Objective: 667\n",
      "iter=4, cost=667.0 after CVRP\n",
      "iter=4, cost=667.0 after QAP\n",
      "Objective: 664\n",
      "Objective: 766\n",
      "iter=0, cost=766.0 after CVRP\n",
      "iter=0, cost=766.0 after QAP\n",
      "Objective: 766\n",
      "iter=1, cost=766.0 after CVRP\n",
      "iter=1, cost=766.0 after QAP\n",
      "Objective: 766\n",
      "iter=2, cost=766.0 after CVRP\n",
      "iter=2, cost=766.0 after QAP\n",
      "Objective: 766\n",
      "iter=3, cost=766.0 after CVRP\n",
      "iter=3, cost=766.0 after QAP\n",
      "Objective: 766\n",
      "iter=4, cost=766.0 after CVRP\n",
      "iter=4, cost=766.0 after QAP\n",
      "Objective: 760\n",
      "Objective: 833\n",
      "iter=0, cost=833.0 after CVRP\n",
      "iter=0, cost=833.0 after QAP\n",
      "Objective: 833\n",
      "iter=1, cost=833.0 after CVRP\n",
      "iter=1, cost=833.0 after QAP\n",
      "Objective: 833\n",
      "iter=2, cost=833.0 after CVRP\n",
      "iter=2, cost=833.0 after QAP\n",
      "Objective: 833\n",
      "iter=3, cost=833.0 after CVRP\n",
      "iter=3, cost=833.0 after QAP\n",
      "Objective: 833\n",
      "iter=4, cost=833.0 after CVRP\n",
      "iter=4, cost=833.0 after QAP\n",
      "Objective: 821\n",
      "Objective: 910\n",
      "iter=0, cost=910.0 after CVRP\n",
      "iter=0, cost=910.0 after QAP\n",
      "Objective: 907\n",
      "iter=1, cost=907.0 after CVRP\n",
      "iter=1, cost=907.0 after QAP\n",
      "Objective: 907\n",
      "iter=2, cost=907.0 after CVRP\n",
      "iter=2, cost=907.0 after QAP\n",
      "Objective: 907\n",
      "iter=3, cost=907.0 after CVRP\n",
      "iter=3, cost=907.0 after QAP\n",
      "Objective: 907\n",
      "iter=4, cost=907.0 after CVRP\n",
      "iter=4, cost=907.0 after QAP\n",
      "Objective: 891\n",
      "Objective: 1026\n",
      "iter=0, cost=1026.0 after CVRP\n",
      "iter=0, cost=1026.0 after QAP\n",
      "Objective: 1024\n",
      "iter=1, cost=1024.0 after CVRP\n",
      "iter=1, cost=1024.0 after QAP\n",
      "Objective: 1024\n",
      "iter=2, cost=1024.0 after CVRP\n",
      "iter=2, cost=1024.0 after QAP\n",
      "Objective: 1024\n",
      "iter=3, cost=1024.0 after CVRP\n",
      "iter=3, cost=1024.0 after QAP\n",
      "Objective: 1024\n",
      "iter=4, cost=1024.0 after CVRP\n",
      "iter=4, cost=1024.0 after QAP\n",
      "Objective: 1000\n",
      "Objective: 1072\n",
      "iter=0, cost=1072.0 after CVRP\n",
      "iter=0, cost=1072.0 after QAP\n",
      "Objective: 1072\n",
      "iter=1, cost=1072.0 after CVRP\n",
      "iter=1, cost=1072.0 after QAP\n",
      "Objective: 1072\n",
      "iter=2, cost=1072.0 after CVRP\n",
      "iter=2, cost=1072.0 after QAP\n",
      "Objective: 1073\n",
      "iter=3, cost=1073.0 after CVRP\n",
      "iter=3, cost=1073.0 after QAP\n",
      "Objective: 1073\n",
      "iter=4, cost=1073.0 after CVRP\n",
      "iter=4, cost=1073.0 after QAP\n",
      "Objective: 1046\n",
      "Objective: 1164\n",
      "iter=0, cost=1164.0 after CVRP\n",
      "iter=0, cost=1164.0 after QAP\n",
      "Objective: 1164\n",
      "iter=1, cost=1164.0 after CVRP\n",
      "iter=1, cost=1164.0 after QAP\n",
      "Objective: 1164\n",
      "iter=2, cost=1164.0 after CVRP\n",
      "iter=2, cost=1164.0 after QAP\n",
      "Objective: 1164\n",
      "iter=3, cost=1164.0 after CVRP\n",
      "iter=3, cost=1164.0 after QAP\n",
      "Objective: 1164\n",
      "iter=4, cost=1164.0 after CVRP\n",
      "iter=4, cost=1164.0 after QAP\n",
      "Objective: 1138\n",
      "Objective: 1225\n",
      "iter=0, cost=1225.0 after CVRP\n",
      "iter=0, cost=1225.0 after QAP\n",
      "Objective: 1225\n",
      "iter=1, cost=1225.0 after CVRP\n",
      "iter=1, cost=1225.0 after QAP\n",
      "Objective: 1225\n",
      "iter=2, cost=1225.0 after CVRP\n",
      "iter=2, cost=1225.0 after QAP\n",
      "Objective: 1225\n",
      "iter=3, cost=1225.0 after CVRP\n",
      "iter=3, cost=1225.0 after QAP\n",
      "Objective: 1225\n",
      "iter=4, cost=1225.0 after CVRP\n",
      "iter=4, cost=1225.0 after QAP\n",
      "Objective: 1200\n",
      "Objective: 1312\n",
      "iter=0, cost=1312.0 after CVRP\n",
      "iter=0, cost=1312.0 after QAP\n",
      "Objective: 1312\n",
      "iter=1, cost=1312.0 after CVRP\n",
      "iter=1, cost=1312.0 after QAP\n",
      "Objective: 1312\n",
      "iter=2, cost=1312.0 after CVRP\n",
      "iter=2, cost=1312.0 after QAP\n",
      "Objective: 1312\n",
      "iter=3, cost=1312.0 after CVRP\n",
      "iter=3, cost=1312.0 after QAP\n",
      "Objective: 1312\n",
      "iter=4, cost=1312.0 after CVRP\n",
      "iter=4, cost=1312.0 after QAP\n",
      "Objective: 1293\n",
      "Objective: 1437\n",
      "iter=0, cost=1437.0 after CVRP\n",
      "iter=0, cost=1437.0 after QAP\n",
      "Objective: 1437\n",
      "iter=1, cost=1437.0 after CVRP\n",
      "iter=1, cost=1437.0 after QAP\n",
      "Objective: 1437\n",
      "iter=2, cost=1437.0 after CVRP\n",
      "iter=2, cost=1437.0 after QAP\n",
      "Objective: 1436\n",
      "iter=3, cost=1436.0 after CVRP\n",
      "iter=3, cost=1436.0 after QAP\n",
      "Objective: 1437\n",
      "iter=4, cost=1437.0 after CVRP\n",
      "iter=4, cost=1437.0 after QAP\n",
      "Objective: 1433\n",
      "Objective: 1467\n",
      "iter=0, cost=1467.0 after CVRP\n",
      "iter=0, cost=1467.0 after QAP\n",
      "Objective: 1467\n",
      "iter=1, cost=1467.0 after CVRP\n",
      "iter=1, cost=1467.0 after QAP\n",
      "Objective: 1467\n",
      "iter=2, cost=1467.0 after CVRP\n",
      "iter=2, cost=1467.0 after QAP\n",
      "Objective: 1467\n",
      "iter=3, cost=1467.0 after CVRP\n",
      "iter=3, cost=1467.0 after QAP\n",
      "Objective: 1467\n",
      "iter=4, cost=1467.0 after CVRP\n",
      "iter=4, cost=1467.0 after QAP\n",
      "Objective: 1462\n",
      "Objective: 1548\n",
      "iter=0, cost=1548.0 after CVRP\n",
      "iter=0, cost=1548.0 after QAP\n",
      "Objective: 1548\n",
      "iter=1, cost=1548.0 after CVRP\n",
      "iter=1, cost=1548.0 after QAP\n",
      "Objective: 1548\n",
      "iter=2, cost=1548.0 after CVRP\n",
      "iter=2, cost=1548.0 after QAP\n",
      "Objective: 1548\n",
      "iter=3, cost=1548.0 after CVRP\n",
      "iter=3, cost=1548.0 after QAP\n",
      "Objective: 1548\n",
      "iter=4, cost=1548.0 after CVRP\n",
      "iter=4, cost=1548.0 after QAP\n",
      "Objective: 1545\n"
     ]
    }
   ],
   "source": [
    "stat = []\n",
    "for i in range(1,20):\n",
    "    experiments = random_choose_candidate(96,96,i)\n",
    "    jobs = np.argwhere(experiments)\n",
    "    distance_matrix = calculate_distance_matrix(jobs)\n",
    "    optimized_distance,recorder = CVRP_QAP(jobs)\n",
    "    VRP_distance, _ = CVRP_solver(distance_matrix)\n",
    "    non_optimized_distance = distance_calculator(jobs)\n",
    "    stat.append((i,non_optimized_distance,optimized_distance, VRP_distance))\n",
    "stat = np.array(stat)"
   ]
  },
  {
   "cell_type": "code",
   "execution_count": null,
   "metadata": {},
   "outputs": [
    {
     "ename": "ImportError",
     "evalue": "cannot import name 'calculate_distance' from 'utils' (/home/yq-mew/yq/chem1906/Projects/pipette_scheduling/notebooks/utils.py)",
     "output_type": "error",
     "traceback": [
      "\u001b[0;31m---------------------------------------------------------------------------\u001b[0m",
      "\u001b[0;31mImportError\u001b[0m                               Traceback (most recent call last)",
      "Cell \u001b[0;32mIn[12], line 1\u001b[0m\n\u001b[0;32m----> 1\u001b[0m \u001b[38;5;28;01mfrom\u001b[39;00m\u001b[38;5;250m \u001b[39m\u001b[38;5;21;01mutils\u001b[39;00m\u001b[38;5;250m \u001b[39m\u001b[38;5;28;01mimport\u001b[39;00m random_choose_candidate, distance_calculator, calculate_distance, CVRP_solver\n\u001b[1;32m      2\u001b[0m stat \u001b[38;5;241m=\u001b[39m []\n\u001b[1;32m      3\u001b[0m \u001b[38;5;28;01mfor\u001b[39;00m i \u001b[38;5;129;01min\u001b[39;00m \u001b[38;5;28mrange\u001b[39m(\u001b[38;5;241m1\u001b[39m,\u001b[38;5;241m27\u001b[39m):\n",
      "\u001b[0;31mImportError\u001b[0m: cannot import name 'calculate_distance' from 'utils' (/home/yq-mew/yq/chem1906/Projects/pipette_scheduling/notebooks/utils.py)"
     ]
    }
   ],
   "source": [
    "from utils import random_choose_candidate, distance_calculator, calculate_distance_matrix, CVRP_solver\n",
    "stat = []\n",
    "for i in range(1,27):\n",
    "    experiments = random_choose_candidate(96,96,i)\n",
    "    jobs = np.argwhere(experiments)\n",
    "    distance_matrix = calculate_distance_matrix(non_zero_pos)\n",
    "    optimized_distance,recorder = CVRP_solver(distance_matrix)\n",
    "    non_optimized_distance = distance_calculator(non_zero_pos)\n",
    "    stat.append((i,non_optimized_distance,optimized_distance))\n",
    "stat = np.array(stat)"
   ]
  },
  {
   "cell_type": "code",
   "execution_count": null,
   "metadata": {},
   "outputs": [],
   "source": [
    "sequences = CVRP_QAP(jobs,iteration=5)\n",
    "sequences"
   ]
  },
  {
   "cell_type": "code",
   "execution_count": null,
   "metadata": {},
   "outputs": [],
   "source": [
    "o_sequences = get_optimized_sequence(sequences)"
   ]
  },
  {
   "cell_type": "code",
   "execution_count": null,
   "metadata": {},
   "outputs": [],
   "source": [
    "CVRP_distance = np.zeros((96,96))\n",
    "\n",
    "for i in range(96):\n",
    "    for j in range(96):\n",
    "        # take the arraies whose second column equal i\n",
    "        jobs_i = jobs[jobs[:,1] == i]\n",
    "        # take the arraies whose second column equal j\n",
    "        jobs_j = jobs[jobs[:,1] == j]\n",
    "        jobs_ij = np.vstack((jobs_i,jobs_j))\n",
    "        distance_ij = calculate_distance(jobs_ij)\n",
    "        optimized_distance_ij,recorder_ij = CVRP_solver(distance_ij,solving_time=1)\n",
    "        CVRP_distance[i,j] = optimized_distance_ij"
   ]
  },
  {
   "cell_type": "code",
   "execution_count": 13,
   "metadata": {},
   "outputs": [
    {
     "ename": "TypeError",
     "evalue": "cannot unpack non-iterable NoneType object",
     "output_type": "error",
     "traceback": [
      "\u001b[0;31m---------------------------------------------------------------------------\u001b[0m",
      "\u001b[0;31mTypeError\u001b[0m                                 Traceback (most recent call last)",
      "Cell \u001b[0;32mIn[13], line 1\u001b[0m\n\u001b[0;32m----> 1\u001b[0m optimized_distance,recorder \u001b[38;5;241m=\u001b[39m CVRP_solver(distance_matrix,solving_time\u001b[38;5;241m=\u001b[39m\u001b[38;5;241m2\u001b[39m)\n",
      "\u001b[0;31mTypeError\u001b[0m: cannot unpack non-iterable NoneType object"
     ]
    }
   ],
   "source": [
    "optimized_distance,recorder = CVRP_solver(distance_matrix,solving_time=2)"
   ]
  },
  {
   "cell_type": "code",
   "execution_count": 14,
   "metadata": {},
   "outputs": [
    {
     "ename": "ValueError",
     "evalue": "index can't contain negative values",
     "output_type": "error",
     "traceback": [
      "\u001b[0;31m---------------------------------------------------------------------------\u001b[0m",
      "\u001b[0;31mValueError\u001b[0m                                Traceback (most recent call last)",
      "Cell \u001b[0;32mIn[14], line 1\u001b[0m\n\u001b[0;32m----> 1\u001b[0m optimized_seuqnecess \u001b[38;5;241m=\u001b[39m \u001b[43mget_optimized_sequence\u001b[49m\u001b[43m(\u001b[49m\u001b[43mrecorder\u001b[49m\u001b[43m)\u001b[49m\n\u001b[1;32m      2\u001b[0m t \u001b[38;5;241m=\u001b[39m calculate_T(optimized_seuqnecess)\n\u001b[1;32m      3\u001b[0m D_prime \u001b[38;5;241m=\u001b[39m D_prime[\u001b[38;5;241m1\u001b[39m:,\u001b[38;5;241m1\u001b[39m:]\n",
      "File \u001b[0;32m/home/yq-mew/yq/chem1906/Projects/pipette_scheduling/notebooks/utils.py:122\u001b[0m, in \u001b[0;36mget_optimized_sequence\u001b[0;34m(recorder)\u001b[0m\n\u001b[1;32m    120\u001b[0m \u001b[38;5;28;01mfor\u001b[39;00m i \u001b[38;5;129;01min\u001b[39;00m \u001b[38;5;28mrange\u001b[39m(\u001b[38;5;28mlen\u001b[39m(recorder)):\n\u001b[1;32m    121\u001b[0m     recorder[i] \u001b[38;5;241m=\u001b[39m np\u001b[38;5;241m.\u001b[39marray(recorder[i])\n\u001b[0;32m--> 122\u001b[0m     recorder[i] \u001b[38;5;241m=\u001b[39m \u001b[43mnp\u001b[49m\u001b[38;5;241;43m.\u001b[39;49m\u001b[43mpad\u001b[49m\u001b[43m(\u001b[49m\u001b[43mrecorder\u001b[49m\u001b[43m[\u001b[49m\u001b[43mi\u001b[49m\u001b[43m]\u001b[49m\u001b[43m,\u001b[49m\u001b[43m \u001b[49m\u001b[43m(\u001b[49m\u001b[38;5;241;43m0\u001b[39;49m\u001b[43m,\u001b[49m\u001b[43m \u001b[49m\u001b[38;5;241;43m8\u001b[39;49m\u001b[38;5;241;43m-\u001b[39;49m\u001b[43mrecorder\u001b[49m\u001b[43m[\u001b[49m\u001b[43mi\u001b[49m\u001b[43m]\u001b[49m\u001b[38;5;241;43m.\u001b[39;49m\u001b[43mshape\u001b[49m\u001b[43m[\u001b[49m\u001b[38;5;241;43m0\u001b[39;49m\u001b[43m]\u001b[49m\u001b[43m)\u001b[49m\u001b[43m,\u001b[49m\u001b[43m \u001b[49m\u001b[38;5;124;43m'\u001b[39;49m\u001b[38;5;124;43mconstant\u001b[39;49m\u001b[38;5;124;43m'\u001b[39;49m\u001b[43m,\u001b[49m\u001b[43m \u001b[49m\u001b[43mconstant_values\u001b[49m\u001b[38;5;241;43m=\u001b[39;49m\u001b[38;5;241;43m-\u001b[39;49m\u001b[38;5;241;43m1\u001b[39;49m\u001b[43m)\u001b[49m\n\u001b[1;32m    123\u001b[0m \u001b[38;5;66;03m# move the elements containing -1 to the end\u001b[39;00m\n\u001b[1;32m    124\u001b[0m optimized_seuqnece \u001b[38;5;241m=\u001b[39m np\u001b[38;5;241m.\u001b[39marray(recorder)\n",
      "File \u001b[0;32m~/anaconda3/envs/pipette_scheduling/lib/python3.9/site-packages/numpy/lib/_arraypad_impl.py:760\u001b[0m, in \u001b[0;36mpad\u001b[0;34m(array, pad_width, mode, **kwargs)\u001b[0m\n\u001b[1;32m    757\u001b[0m     \u001b[38;5;28;01mraise\u001b[39;00m \u001b[38;5;167;01mTypeError\u001b[39;00m(\u001b[38;5;124m'\u001b[39m\u001b[38;5;124m`pad_width` must be of integral type.\u001b[39m\u001b[38;5;124m'\u001b[39m)\n\u001b[1;32m    759\u001b[0m \u001b[38;5;66;03m# Broadcast to shape (array.ndim, 2)\u001b[39;00m\n\u001b[0;32m--> 760\u001b[0m pad_width \u001b[38;5;241m=\u001b[39m \u001b[43m_as_pairs\u001b[49m\u001b[43m(\u001b[49m\u001b[43mpad_width\u001b[49m\u001b[43m,\u001b[49m\u001b[43m \u001b[49m\u001b[43marray\u001b[49m\u001b[38;5;241;43m.\u001b[39;49m\u001b[43mndim\u001b[49m\u001b[43m,\u001b[49m\u001b[43m \u001b[49m\u001b[43mas_index\u001b[49m\u001b[38;5;241;43m=\u001b[39;49m\u001b[38;5;28;43;01mTrue\u001b[39;49;00m\u001b[43m)\u001b[49m\n\u001b[1;32m    762\u001b[0m \u001b[38;5;28;01mif\u001b[39;00m \u001b[38;5;28mcallable\u001b[39m(mode):\n\u001b[1;32m    763\u001b[0m     \u001b[38;5;66;03m# Old behavior: Use user-supplied function with np.apply_along_axis\u001b[39;00m\n\u001b[1;32m    764\u001b[0m     function \u001b[38;5;241m=\u001b[39m mode\n",
      "File \u001b[0;32m~/anaconda3/envs/pipette_scheduling/lib/python3.9/site-packages/numpy/lib/_arraypad_impl.py:526\u001b[0m, in \u001b[0;36m_as_pairs\u001b[0;34m(x, ndim, as_index)\u001b[0m\n\u001b[1;32m    524\u001b[0m         x \u001b[38;5;241m=\u001b[39m x\u001b[38;5;241m.\u001b[39mravel()  \u001b[38;5;66;03m# Ensure x[0], x[1] works\u001b[39;00m\n\u001b[1;32m    525\u001b[0m         \u001b[38;5;28;01mif\u001b[39;00m as_index \u001b[38;5;129;01mand\u001b[39;00m (x[\u001b[38;5;241m0\u001b[39m] \u001b[38;5;241m<\u001b[39m \u001b[38;5;241m0\u001b[39m \u001b[38;5;129;01mor\u001b[39;00m x[\u001b[38;5;241m1\u001b[39m] \u001b[38;5;241m<\u001b[39m \u001b[38;5;241m0\u001b[39m):\n\u001b[0;32m--> 526\u001b[0m             \u001b[38;5;28;01mraise\u001b[39;00m \u001b[38;5;167;01mValueError\u001b[39;00m(\u001b[38;5;124m\"\u001b[39m\u001b[38;5;124mindex can\u001b[39m\u001b[38;5;124m'\u001b[39m\u001b[38;5;124mt contain negative values\u001b[39m\u001b[38;5;124m\"\u001b[39m)\n\u001b[1;32m    527\u001b[0m         \u001b[38;5;28;01mreturn\u001b[39;00m ((x[\u001b[38;5;241m0\u001b[39m], x[\u001b[38;5;241m1\u001b[39m]),) \u001b[38;5;241m*\u001b[39m ndim\n\u001b[1;32m    529\u001b[0m \u001b[38;5;28;01mif\u001b[39;00m as_index \u001b[38;5;129;01mand\u001b[39;00m x\u001b[38;5;241m.\u001b[39mmin() \u001b[38;5;241m<\u001b[39m \u001b[38;5;241m0\u001b[39m:\n",
      "\u001b[0;31mValueError\u001b[0m: index can't contain negative values"
     ]
    }
   ],
   "source": [
    "optimized_seuqnecess = get_optimized_sequence(recorder)\n",
    "t = calculate_T(optimized_seuqnecess)\n",
    "D_prime = D_prime[1:,1:]\n",
    "# cost = trace (T^T * D_prime)\n",
    "cost = np.trace(np.dot(t.T,D_prime))\n",
    "cost"
   ]
  },
  {
   "cell_type": "code",
   "execution_count": 9,
   "metadata": {},
   "outputs": [
    {
     "data": {
      "text/plain": [
       "array([[1.000e+00, 8.400e+01, 5.700e+01, 8.900e+01],\n",
       "       [2.000e+00, 2.420e+02, 1.670e+02, 1.830e+02],\n",
       "       [3.000e+00, 4.130e+02, 2.440e+02, 2.740e+02],\n",
       "       [4.000e+00, 6.110e+02, 3.580e+02, 3.590e+02],\n",
       "       [5.000e+00, 7.380e+02, 4.400e+02, 4.380e+02],\n",
       "       [6.000e+00, 8.940e+02, 5.230e+02, 5.220e+02],\n",
       "       [7.000e+00, 1.049e+03, 6.080e+02, 5.970e+02],\n",
       "       [8.000e+00, 1.216e+03, 7.150e+02, 7.090e+02],\n",
       "       [9.000e+00, 1.365e+03, 7.790e+02, 7.590e+02],\n",
       "       [1.000e+01, 1.485e+03, 8.480e+02, 8.330e+02],\n",
       "       [1.100e+01, 1.634e+03, 9.440e+02, 9.290e+02],\n",
       "       [1.200e+01, 1.789e+03, 1.037e+03, 1.030e+03],\n",
       "       [1.300e+01, 1.927e+03, 1.077e+03, 1.068e+03],\n",
       "       [1.400e+01, 2.068e+03, 1.177e+03, 1.174e+03],\n",
       "       [1.500e+01, 2.207e+03, 1.271e+03, 1.266e+03],\n",
       "       [1.600e+01, 2.312e+03, 1.327e+03, 1.325e+03],\n",
       "       [1.700e+01, 2.468e+03, 1.396e+03, 1.388e+03],\n",
       "       [1.800e+01, 2.608e+03, 1.482e+03, 1.477e+03],\n",
       "       [1.900e+01, 2.726e+03, 1.565e+03, 1.560e+03]])"
      ]
     },
     "execution_count": 9,
     "metadata": {},
     "output_type": "execute_result"
    }
   ],
   "source": [
    "# remove the first row and column of D_prime\n",
    "stat = stat.round(2)\n",
    "stat"
   ]
  },
  {
   "cell_type": "code",
   "execution_count": 10,
   "metadata": {},
   "outputs": [
    {
     "data": {
      "image/png": "[encoded data removed]",
      "text/plain": [
       "<Figure size 640x480 with 1 Axes>"
      ]
     },
     "metadata": {},
     "output_type": "display_data"
    }
   ],
   "source": [
    "# plot the result\n",
    "plt.plot(stat[:,0],stat[:,1],label='non-optimized')\n",
    "plt.plot(stat[:,0],stat[:,2],label='VRP_QAP')\n",
    "plt.plot(stat[:,0],stat[:,3],label='VRP')\n",
    "plt.legend()\n",
    "plt.xlabel('Number of non-zero elements')\n",
    "plt.ylabel('Distance')\n",
    "plt.show()"
   ]
  },
  {
   "cell_type": "code",
   "execution_count": null,
   "metadata": {},
   "outputs": [],
   "source": []
  },
  {
   "cell_type": "code",
   "execution_count": null,
   "metadata": {},
   "outputs": [],
   "source": [
    "A = np.dot(np.dot(E.T,t.T),E)\n",
    "B = D\n",
    "# K = Kron(A,B)\n",
    "K = np.kron(B, A.T)\n",
    "K"
   ]
  },
  {
   "cell_type": "code",
   "execution_count": null,
   "metadata": {},
   "outputs": [],
   "source": [
    "np.max(K)"
   ]
  },
  {
   "cell_type": "code",
   "execution_count": null,
   "metadata": {},
   "outputs": [],
   "source": [
    "P = pygm.ipfp(-K,n1=96,n2=96, max_iter=100)\n",
    "P = pygm.hungarian(P)\n",
    "vec_P = P.T.reshape(-1, 1)\n",
    "print(np.dot(np.dot(vec_P.T, -K), vec_P))\n",
    "\n",
    "P = np.eye(96)\n",
    "vec_P = P.T.reshape(-1, 1)\n",
    "print(np.dot(np.dot(vec_P.T, -K), vec_P))\n"
   ]
  },
  {
   "cell_type": "code",
   "execution_count": null,
   "metadata": {},
   "outputs": [],
   "source": [
    "np.trace(np.dot(np.dot(np.dot(t.T, S), D), S.T))"
   ]
  },
  {
   "cell_type": "code",
   "execution_count": null,
   "metadata": {},
   "outputs": [],
   "source": [
    "np.trace(np.dot(np.dot(np.dot(np.dot(np.dot(t.T, E), P), D), P.T), E.T))"
   ]
  }
 ],
 "metadata": {
  "kernelspec": {
   "display_name": "pipette_scheduling",
   "language": "python",
   "name": "python3"
  },
  "language_info": {
   "codemirror_mode": {
    "name": "ipython",
    "version": 3
   },
   "file_extension": ".py",
   "mimetype": "text/x-python",
   "name": "python",
   "nbconvert_exporter": "python",
   "pygments_lexer": "ipython3",
   "version": "3.9.21"
  }
 },
 "nbformat": 4,
 "nbformat_minor": 2
}
